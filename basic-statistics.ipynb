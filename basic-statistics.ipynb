{
 "cells": [
  {
   "cell_type": "code",
   "execution_count": 1,
   "metadata": {},
   "outputs": [],
   "source": [
    "import numpy as np\n",
    "import pandas as pd\n",
    "import seaborn as sns\n",
    "from scipy import stats\n",
    "from sklearn.preprocessing import StandardScaler\n",
    "import matplotlib.pyplot as plt\n",
    "%matplotlib inline"
   ]
  },
  {
   "cell_type": "markdown",
   "metadata": {},
   "source": [
    "## データ準備"
   ]
  },
  {
   "cell_type": "code",
   "execution_count": 2,
   "metadata": {},
   "outputs": [
    {
     "data": {
      "text/html": [
       "<div>\n",
       "<style scoped>\n",
       "    .dataframe tbody tr th:only-of-type {\n",
       "        vertical-align: middle;\n",
       "    }\n",
       "\n",
       "    .dataframe tbody tr th {\n",
       "        vertical-align: top;\n",
       "    }\n",
       "\n",
       "    .dataframe thead th {\n",
       "        text-align: right;\n",
       "    }\n",
       "</style>\n",
       "<table border=\"1\" class=\"dataframe\">\n",
       "  <thead>\n",
       "    <tr style=\"text-align: right;\">\n",
       "      <th></th>\n",
       "      <th>total_bill</th>\n",
       "      <th>tip</th>\n",
       "      <th>sex</th>\n",
       "      <th>smoker</th>\n",
       "      <th>day</th>\n",
       "      <th>time</th>\n",
       "      <th>size</th>\n",
       "      <th>tip_rate</th>\n",
       "    </tr>\n",
       "  </thead>\n",
       "  <tbody>\n",
       "    <tr>\n",
       "      <th>0</th>\n",
       "      <td>16.99</td>\n",
       "      <td>1.01</td>\n",
       "      <td>Female</td>\n",
       "      <td>No</td>\n",
       "      <td>Sun</td>\n",
       "      <td>Dinner</td>\n",
       "      <td>2</td>\n",
       "      <td>0.059447</td>\n",
       "    </tr>\n",
       "    <tr>\n",
       "      <th>1</th>\n",
       "      <td>10.34</td>\n",
       "      <td>1.66</td>\n",
       "      <td>Male</td>\n",
       "      <td>No</td>\n",
       "      <td>Sun</td>\n",
       "      <td>Dinner</td>\n",
       "      <td>3</td>\n",
       "      <td>0.160542</td>\n",
       "    </tr>\n",
       "    <tr>\n",
       "      <th>2</th>\n",
       "      <td>21.01</td>\n",
       "      <td>3.50</td>\n",
       "      <td>Male</td>\n",
       "      <td>No</td>\n",
       "      <td>Sun</td>\n",
       "      <td>Dinner</td>\n",
       "      <td>3</td>\n",
       "      <td>0.166587</td>\n",
       "    </tr>\n",
       "    <tr>\n",
       "      <th>3</th>\n",
       "      <td>23.68</td>\n",
       "      <td>3.31</td>\n",
       "      <td>Male</td>\n",
       "      <td>No</td>\n",
       "      <td>Sun</td>\n",
       "      <td>Dinner</td>\n",
       "      <td>2</td>\n",
       "      <td>0.139780</td>\n",
       "    </tr>\n",
       "    <tr>\n",
       "      <th>4</th>\n",
       "      <td>24.59</td>\n",
       "      <td>3.61</td>\n",
       "      <td>Female</td>\n",
       "      <td>No</td>\n",
       "      <td>Sun</td>\n",
       "      <td>Dinner</td>\n",
       "      <td>4</td>\n",
       "      <td>0.146808</td>\n",
       "    </tr>\n",
       "    <tr>\n",
       "      <th>...</th>\n",
       "      <td>...</td>\n",
       "      <td>...</td>\n",
       "      <td>...</td>\n",
       "      <td>...</td>\n",
       "      <td>...</td>\n",
       "      <td>...</td>\n",
       "      <td>...</td>\n",
       "      <td>...</td>\n",
       "    </tr>\n",
       "    <tr>\n",
       "      <th>239</th>\n",
       "      <td>29.03</td>\n",
       "      <td>5.92</td>\n",
       "      <td>Male</td>\n",
       "      <td>No</td>\n",
       "      <td>Sat</td>\n",
       "      <td>Dinner</td>\n",
       "      <td>3</td>\n",
       "      <td>0.203927</td>\n",
       "    </tr>\n",
       "    <tr>\n",
       "      <th>240</th>\n",
       "      <td>27.18</td>\n",
       "      <td>2.00</td>\n",
       "      <td>Female</td>\n",
       "      <td>Yes</td>\n",
       "      <td>Sat</td>\n",
       "      <td>Dinner</td>\n",
       "      <td>2</td>\n",
       "      <td>0.073584</td>\n",
       "    </tr>\n",
       "    <tr>\n",
       "      <th>241</th>\n",
       "      <td>22.67</td>\n",
       "      <td>2.00</td>\n",
       "      <td>Male</td>\n",
       "      <td>Yes</td>\n",
       "      <td>Sat</td>\n",
       "      <td>Dinner</td>\n",
       "      <td>2</td>\n",
       "      <td>0.088222</td>\n",
       "    </tr>\n",
       "    <tr>\n",
       "      <th>242</th>\n",
       "      <td>17.82</td>\n",
       "      <td>1.75</td>\n",
       "      <td>Male</td>\n",
       "      <td>No</td>\n",
       "      <td>Sat</td>\n",
       "      <td>Dinner</td>\n",
       "      <td>2</td>\n",
       "      <td>0.098204</td>\n",
       "    </tr>\n",
       "    <tr>\n",
       "      <th>243</th>\n",
       "      <td>18.78</td>\n",
       "      <td>3.00</td>\n",
       "      <td>Female</td>\n",
       "      <td>No</td>\n",
       "      <td>Thur</td>\n",
       "      <td>Dinner</td>\n",
       "      <td>2</td>\n",
       "      <td>0.159744</td>\n",
       "    </tr>\n",
       "  </tbody>\n",
       "</table>\n",
       "<p>244 rows × 8 columns</p>\n",
       "</div>"
      ],
      "text/plain": [
       "     total_bill   tip     sex smoker   day    time  size  tip_rate\n",
       "0         16.99  1.01  Female     No   Sun  Dinner     2  0.059447\n",
       "1         10.34  1.66    Male     No   Sun  Dinner     3  0.160542\n",
       "2         21.01  3.50    Male     No   Sun  Dinner     3  0.166587\n",
       "3         23.68  3.31    Male     No   Sun  Dinner     2  0.139780\n",
       "4         24.59  3.61  Female     No   Sun  Dinner     4  0.146808\n",
       "..          ...   ...     ...    ...   ...     ...   ...       ...\n",
       "239       29.03  5.92    Male     No   Sat  Dinner     3  0.203927\n",
       "240       27.18  2.00  Female    Yes   Sat  Dinner     2  0.073584\n",
       "241       22.67  2.00    Male    Yes   Sat  Dinner     2  0.088222\n",
       "242       17.82  1.75    Male     No   Sat  Dinner     2  0.098204\n",
       "243       18.78  3.00  Female     No  Thur  Dinner     2  0.159744\n",
       "\n",
       "[244 rows x 8 columns]"
      ]
     },
     "execution_count": 2,
     "metadata": {},
     "output_type": "execute_result"
    }
   ],
   "source": [
    "df = sns.load_dataset(\"tips\")\n",
    "df[\"tip_rate\"] = df[\"tip\"] / df[\"total_bill\"]\n",
    "df"
   ]
  },
  {
   "cell_type": "markdown",
   "metadata": {},
   "source": [
    "## 分布の描画"
   ]
  },
  {
   "cell_type": "code",
   "execution_count": 6,
   "metadata": {},
   "outputs": [
    {
     "data": {
      "text/plain": [
       "<matplotlib.axes._subplots.AxesSubplot at 0x7f66bd71f710>"
      ]
     },
     "execution_count": 6,
     "metadata": {},
     "output_type": "execute_result"
    },
    {
     "data": {
      "image/png": "[encoded data removed]",
      "text/plain": [
       "<Figure size 432x288 with 1 Axes>"
      ]
     },
     "metadata": {
      "needs_background": "light"
     },
     "output_type": "display_data"
    }
   ],
   "source": [
    "sns.distplot(df[\"tip\"], kde=False)"
   ]
  },
  {
   "cell_type": "code",
   "execution_count": 8,
   "metadata": {},
   "outputs": [
    {
     "data": {
      "text/plain": [
       "<seaborn.axisgrid.FacetGrid at 0x7f66bf012e50>"
      ]
     },
     "execution_count": 8,
     "metadata": {},
     "output_type": "execute_result"
    },
    {
     "data": {
      "image/png": "[encoded data removed]",
      "text/plain": [
       "<Figure size 360x360 with 1 Axes>"
      ]
     },
     "metadata": {
      "needs_background": "light"
     },
     "output_type": "display_data"
    }
   ],
   "source": [
    "sns.catplot(\"time\", data=df, kind=\"count\")"
   ]
  },
  {
   "cell_type": "markdown",
   "metadata": {},
   "source": [
    "## 平均値"
   ]
  },
  {
   "cell_type": "code",
   "execution_count": 12,
   "metadata": {},
   "outputs": [
    {
     "data": {
      "text/plain": [
       "0.16080258172250478"
      ]
     },
     "execution_count": 12,
     "metadata": {},
     "output_type": "execute_result"
    }
   ],
   "source": [
    "np.mean(df[\"tip_rate\"])"
   ]
  },
  {
   "cell_type": "code",
   "execution_count": 13,
   "metadata": {},
   "outputs": [
    {
     "data": {
      "text/plain": [
       "0.16080258172250478"
      ]
     },
     "execution_count": 13,
     "metadata": {},
     "output_type": "execute_result"
    }
   ],
   "source": [
    "df[\"tip_rate\"].mean()"
   ]
  },
  {
   "cell_type": "code",
   "execution_count": 15,
   "metadata": {},
   "outputs": [
    {
     "data": {
      "text/plain": [
       "sex\n",
       "Male      0.157651\n",
       "Female    0.166491\n",
       "Name: tip_rate, dtype: float64"
      ]
     },
     "execution_count": 15,
     "metadata": {},
     "output_type": "execute_result"
    }
   ],
   "source": [
    "df.groupby(\"sex\").mean()[\"tip_rate\"]"
   ]
  },
  {
   "cell_type": "code",
   "execution_count": 17,
   "metadata": {},
   "outputs": [
    {
     "data": {
      "text/plain": [
       "<matplotlib.axes._subplots.AxesSubplot at 0x7f66bd409fd0>"
      ]
     },
     "execution_count": 17,
     "metadata": {},
     "output_type": "execute_result"
    },
    {
     "data": {
      "image/png": "[encoded data removed]",
      "text/plain": [
       "<Figure size 432x288 with 1 Axes>"
      ]
     },
     "metadata": {
      "needs_background": "light"
     },
     "output_type": "display_data"
    }
   ],
   "source": [
    "sns.barplot(\"sex\", y=\"tip_rate\", data=df, ci=None)"
   ]
  },
  {
   "cell_type": "code",
   "execution_count": 18,
   "metadata": {},
   "outputs": [
    {
     "data": {
      "text/plain": [
       "<matplotlib.axes._subplots.AxesSubplot at 0x7f66bd338d10>"
      ]
     },
     "execution_count": 18,
     "metadata": {},
     "output_type": "execute_result"
    },
    {
     "data": {
      "image/png": "[encoded data removed]",
      "text/plain": [
       "<Figure size 432x288 with 1 Axes>"
      ]
     },
     "metadata": {
      "needs_background": "light"
     },
     "output_type": "display_data"
    }
   ],
   "source": [
    "df.groupby(\"sex\").mean()[\"tip_rate\"].plot(kind=\"bar\")"
   ]
  },
  {
   "cell_type": "markdown",
   "metadata": {},
   "source": [
    "## 中央値"
   ]
  },
  {
   "cell_type": "code",
   "execution_count": 19,
   "metadata": {},
   "outputs": [
    {
     "data": {
      "text/plain": [
       "0.15476977125802577"
      ]
     },
     "execution_count": 19,
     "metadata": {},
     "output_type": "execute_result"
    }
   ],
   "source": [
    "np.median(df[\"tip_rate\"])"
   ]
  },
  {
   "cell_type": "code",
   "execution_count": 20,
   "metadata": {},
   "outputs": [
    {
     "data": {
      "text/plain": [
       "<matplotlib.axes._subplots.AxesSubplot at 0x7f66bd2b2590>"
      ]
     },
     "execution_count": 20,
     "metadata": {},
     "output_type": "execute_result"
    },
    {
     "data": {
      "image/png": "[encoded data removed]",
      "text/plain": [
       "<Figure size 432x288 with 1 Axes>"
      ]
     },
     "metadata": {
      "needs_background": "light"
     },
     "output_type": "display_data"
    }
   ],
   "source": [
    "sns.distplot(df[\"tip_rate\"], kde=False)"
   ]
  },
  {
   "cell_type": "code",
   "execution_count": 21,
   "metadata": {},
   "outputs": [
    {
     "data": {
      "text/plain": [
       "0.15476977125802577"
      ]
     },
     "execution_count": 21,
     "metadata": {},
     "output_type": "execute_result"
    }
   ],
   "source": [
    "df[\"tip_rate\"].median()"
   ]
  },
  {
   "cell_type": "code",
   "execution_count": 22,
   "metadata": {},
   "outputs": [
    {
     "data": {
      "text/html": [
       "<div>\n",
       "<style scoped>\n",
       "    .dataframe tbody tr th:only-of-type {\n",
       "        vertical-align: middle;\n",
       "    }\n",
       "\n",
       "    .dataframe tbody tr th {\n",
       "        vertical-align: top;\n",
       "    }\n",
       "\n",
       "    .dataframe thead th {\n",
       "        text-align: right;\n",
       "    }\n",
       "</style>\n",
       "<table border=\"1\" class=\"dataframe\">\n",
       "  <thead>\n",
       "    <tr style=\"text-align: right;\">\n",
       "      <th></th>\n",
       "      <th>total_bill</th>\n",
       "      <th>tip</th>\n",
       "      <th>size</th>\n",
       "      <th>tip_rate</th>\n",
       "    </tr>\n",
       "    <tr>\n",
       "      <th>sex</th>\n",
       "      <th></th>\n",
       "      <th></th>\n",
       "      <th></th>\n",
       "      <th></th>\n",
       "    </tr>\n",
       "  </thead>\n",
       "  <tbody>\n",
       "    <tr>\n",
       "      <th>Male</th>\n",
       "      <td>18.35</td>\n",
       "      <td>3.00</td>\n",
       "      <td>2</td>\n",
       "      <td>0.153492</td>\n",
       "    </tr>\n",
       "    <tr>\n",
       "      <th>Female</th>\n",
       "      <td>16.40</td>\n",
       "      <td>2.75</td>\n",
       "      <td>2</td>\n",
       "      <td>0.155581</td>\n",
       "    </tr>\n",
       "  </tbody>\n",
       "</table>\n",
       "</div>"
      ],
      "text/plain": [
       "        total_bill   tip  size  tip_rate\n",
       "sex                                     \n",
       "Male         18.35  3.00     2  0.153492\n",
       "Female       16.40  2.75     2  0.155581"
      ]
     },
     "execution_count": 22,
     "metadata": {},
     "output_type": "execute_result"
    }
   ],
   "source": [
    "df.groupby(\"sex\").median()"
   ]
  },
  {
   "cell_type": "code",
   "execution_count": 24,
   "metadata": {},
   "outputs": [
    {
     "data": {
      "text/plain": [
       "<matplotlib.axes._subplots.AxesSubplot at 0x7f66bd1cdf10>"
      ]
     },
     "execution_count": 24,
     "metadata": {},
     "output_type": "execute_result"
    },
    {
     "data": {
      "image/png": "[encoded data removed]",
      "text/plain": [
       "<Figure size 432x288 with 1 Axes>"
      ]
     },
     "metadata": {
      "needs_background": "light"
     },
     "output_type": "display_data"
    }
   ],
   "source": [
    "sns.barplot(x=\"sex\", y=\"tip_rate\", data=df, estimator=np.median, ci=None)"
   ]
  },
  {
   "cell_type": "code",
   "execution_count": 27,
   "metadata": {},
   "outputs": [
    {
     "data": {
      "text/html": [
       "<div>\n",
       "<style scoped>\n",
       "    .dataframe tbody tr th:only-of-type {\n",
       "        vertical-align: middle;\n",
       "    }\n",
       "\n",
       "    .dataframe tbody tr th {\n",
       "        vertical-align: top;\n",
       "    }\n",
       "\n",
       "    .dataframe thead th {\n",
       "        text-align: right;\n",
       "    }\n",
       "</style>\n",
       "<table border=\"1\" class=\"dataframe\">\n",
       "  <thead>\n",
       "    <tr style=\"text-align: right;\">\n",
       "      <th></th>\n",
       "      <th>total_bill</th>\n",
       "      <th>tip</th>\n",
       "      <th>sex</th>\n",
       "      <th>smoker</th>\n",
       "      <th>day</th>\n",
       "      <th>time</th>\n",
       "      <th>size</th>\n",
       "      <th>tip_rate</th>\n",
       "    </tr>\n",
       "  </thead>\n",
       "  <tbody>\n",
       "    <tr>\n",
       "      <th>237</th>\n",
       "      <td>32.83</td>\n",
       "      <td>1.17</td>\n",
       "      <td>Male</td>\n",
       "      <td>Yes</td>\n",
       "      <td>Sat</td>\n",
       "      <td>Dinner</td>\n",
       "      <td>2</td>\n",
       "      <td>0.035638</td>\n",
       "    </tr>\n",
       "    <tr>\n",
       "      <th>102</th>\n",
       "      <td>44.30</td>\n",
       "      <td>2.50</td>\n",
       "      <td>Female</td>\n",
       "      <td>Yes</td>\n",
       "      <td>Sat</td>\n",
       "      <td>Dinner</td>\n",
       "      <td>3</td>\n",
       "      <td>0.056433</td>\n",
       "    </tr>\n",
       "    <tr>\n",
       "      <th>57</th>\n",
       "      <td>26.41</td>\n",
       "      <td>1.50</td>\n",
       "      <td>Female</td>\n",
       "      <td>No</td>\n",
       "      <td>Sat</td>\n",
       "      <td>Dinner</td>\n",
       "      <td>2</td>\n",
       "      <td>0.056797</td>\n",
       "    </tr>\n",
       "    <tr>\n",
       "      <th>0</th>\n",
       "      <td>16.99</td>\n",
       "      <td>1.01</td>\n",
       "      <td>Female</td>\n",
       "      <td>No</td>\n",
       "      <td>Sun</td>\n",
       "      <td>Dinner</td>\n",
       "      <td>2</td>\n",
       "      <td>0.059447</td>\n",
       "    </tr>\n",
       "    <tr>\n",
       "      <th>187</th>\n",
       "      <td>30.46</td>\n",
       "      <td>2.00</td>\n",
       "      <td>Male</td>\n",
       "      <td>Yes</td>\n",
       "      <td>Sun</td>\n",
       "      <td>Dinner</td>\n",
       "      <td>5</td>\n",
       "      <td>0.065660</td>\n",
       "    </tr>\n",
       "    <tr>\n",
       "      <th>...</th>\n",
       "      <td>...</td>\n",
       "      <td>...</td>\n",
       "      <td>...</td>\n",
       "      <td>...</td>\n",
       "      <td>...</td>\n",
       "      <td>...</td>\n",
       "      <td>...</td>\n",
       "      <td>...</td>\n",
       "    </tr>\n",
       "    <tr>\n",
       "      <th>183</th>\n",
       "      <td>23.17</td>\n",
       "      <td>6.50</td>\n",
       "      <td>Male</td>\n",
       "      <td>Yes</td>\n",
       "      <td>Sun</td>\n",
       "      <td>Dinner</td>\n",
       "      <td>4</td>\n",
       "      <td>0.280535</td>\n",
       "    </tr>\n",
       "    <tr>\n",
       "      <th>232</th>\n",
       "      <td>11.61</td>\n",
       "      <td>3.39</td>\n",
       "      <td>Male</td>\n",
       "      <td>No</td>\n",
       "      <td>Sat</td>\n",
       "      <td>Dinner</td>\n",
       "      <td>2</td>\n",
       "      <td>0.291990</td>\n",
       "    </tr>\n",
       "    <tr>\n",
       "      <th>67</th>\n",
       "      <td>3.07</td>\n",
       "      <td>1.00</td>\n",
       "      <td>Female</td>\n",
       "      <td>Yes</td>\n",
       "      <td>Sat</td>\n",
       "      <td>Dinner</td>\n",
       "      <td>1</td>\n",
       "      <td>0.325733</td>\n",
       "    </tr>\n",
       "    <tr>\n",
       "      <th>178</th>\n",
       "      <td>9.60</td>\n",
       "      <td>4.00</td>\n",
       "      <td>Female</td>\n",
       "      <td>Yes</td>\n",
       "      <td>Sun</td>\n",
       "      <td>Dinner</td>\n",
       "      <td>2</td>\n",
       "      <td>0.416667</td>\n",
       "    </tr>\n",
       "    <tr>\n",
       "      <th>172</th>\n",
       "      <td>7.25</td>\n",
       "      <td>5.15</td>\n",
       "      <td>Male</td>\n",
       "      <td>Yes</td>\n",
       "      <td>Sun</td>\n",
       "      <td>Dinner</td>\n",
       "      <td>2</td>\n",
       "      <td>0.710345</td>\n",
       "    </tr>\n",
       "  </tbody>\n",
       "</table>\n",
       "<p>244 rows × 8 columns</p>\n",
       "</div>"
      ],
      "text/plain": [
       "     total_bill   tip     sex smoker  day    time  size  tip_rate\n",
       "237       32.83  1.17    Male    Yes  Sat  Dinner     2  0.035638\n",
       "102       44.30  2.50  Female    Yes  Sat  Dinner     3  0.056433\n",
       "57        26.41  1.50  Female     No  Sat  Dinner     2  0.056797\n",
       "0         16.99  1.01  Female     No  Sun  Dinner     2  0.059447\n",
       "187       30.46  2.00    Male    Yes  Sun  Dinner     5  0.065660\n",
       "..          ...   ...     ...    ...  ...     ...   ...       ...\n",
       "183       23.17  6.50    Male    Yes  Sun  Dinner     4  0.280535\n",
       "232       11.61  3.39    Male     No  Sat  Dinner     2  0.291990\n",
       "67         3.07  1.00  Female    Yes  Sat  Dinner     1  0.325733\n",
       "178        9.60  4.00  Female    Yes  Sun  Dinner     2  0.416667\n",
       "172        7.25  5.15    Male    Yes  Sun  Dinner     2  0.710345\n",
       "\n",
       "[244 rows x 8 columns]"
      ]
     },
     "execution_count": 27,
     "metadata": {},
     "output_type": "execute_result"
    }
   ],
   "source": [
    "df.sort_values(\"tip_rate\", ascending=True)"
   ]
  },
  {
   "cell_type": "markdown",
   "metadata": {},
   "source": [
    "## 最頻値"
   ]
  },
  {
   "cell_type": "code",
   "execution_count": 33,
   "metadata": {},
   "outputs": [],
   "source": [
    "mode, count = stats.mode(df)"
   ]
  },
  {
   "cell_type": "code",
   "execution_count": 35,
   "metadata": {},
   "outputs": [
    {
     "name": "stdout",
     "output_type": "stream",
     "text": [
      "[[13.42 2.0 'Male' 'No' 'Sat' 'Dinner' 2 0.1448225923244026]]\n",
      "[[  3  33 157 151  87 176 156   2]]\n"
     ]
    }
   ],
   "source": [
    "print(mode)\n",
    "print(count)"
   ]
  },
  {
   "cell_type": "code",
   "execution_count": 38,
   "metadata": {},
   "outputs": [
    {
     "data": {
      "text/plain": [
       "0    0.144823\n",
       "1    0.153846\n",
       "dtype: float64"
      ]
     },
     "execution_count": 38,
     "metadata": {},
     "output_type": "execute_result"
    }
   ],
   "source": [
    "df[\"tip_rate\"].mode()"
   ]
  },
  {
   "cell_type": "code",
   "execution_count": 37,
   "metadata": {},
   "outputs": [
    {
     "name": "stdout",
     "output_type": "stream",
     "text": [
      "[2] [156]\n"
     ]
    }
   ],
   "source": [
    "mode, count = stats.mode(df[\"size\"])\n",
    "print(mode, count)"
   ]
  },
  {
   "cell_type": "markdown",
   "metadata": {},
   "source": [
    "## 範囲"
   ]
  },
  {
   "cell_type": "code",
   "execution_count": 4,
   "metadata": {},
   "outputs": [
    {
     "data": {
      "text/plain": [
       "1.0"
      ]
     },
     "execution_count": 4,
     "metadata": {},
     "output_type": "execute_result"
    }
   ],
   "source": [
    "np.min(df['tip'])"
   ]
  },
  {
   "cell_type": "code",
   "execution_count": 5,
   "metadata": {},
   "outputs": [
    {
     "data": {
      "text/plain": [
       "1.0"
      ]
     },
     "execution_count": 5,
     "metadata": {},
     "output_type": "execute_result"
    }
   ],
   "source": [
    "df['tip'].min()"
   ]
  },
  {
   "cell_type": "code",
   "execution_count": 6,
   "metadata": {},
   "outputs": [
    {
     "data": {
      "text/html": [
       "<div>\n",
       "<style scoped>\n",
       "    .dataframe tbody tr th:only-of-type {\n",
       "        vertical-align: middle;\n",
       "    }\n",
       "\n",
       "    .dataframe tbody tr th {\n",
       "        vertical-align: top;\n",
       "    }\n",
       "\n",
       "    .dataframe thead th {\n",
       "        text-align: right;\n",
       "    }\n",
       "</style>\n",
       "<table border=\"1\" class=\"dataframe\">\n",
       "  <thead>\n",
       "    <tr style=\"text-align: right;\">\n",
       "      <th></th>\n",
       "      <th>total_bill</th>\n",
       "      <th>tip</th>\n",
       "      <th>size</th>\n",
       "      <th>tip_rate</th>\n",
       "    </tr>\n",
       "    <tr>\n",
       "      <th>sex</th>\n",
       "      <th></th>\n",
       "      <th></th>\n",
       "      <th></th>\n",
       "      <th></th>\n",
       "    </tr>\n",
       "  </thead>\n",
       "  <tbody>\n",
       "    <tr>\n",
       "      <th>Male</th>\n",
       "      <td>7.25</td>\n",
       "      <td>1.0</td>\n",
       "      <td>1</td>\n",
       "      <td>0.035638</td>\n",
       "    </tr>\n",
       "    <tr>\n",
       "      <th>Female</th>\n",
       "      <td>3.07</td>\n",
       "      <td>1.0</td>\n",
       "      <td>1</td>\n",
       "      <td>0.056433</td>\n",
       "    </tr>\n",
       "  </tbody>\n",
       "</table>\n",
       "</div>"
      ],
      "text/plain": [
       "        total_bill  tip  size  tip_rate\n",
       "sex                                    \n",
       "Male          7.25  1.0     1  0.035638\n",
       "Female        3.07  1.0     1  0.056433"
      ]
     },
     "execution_count": 6,
     "metadata": {},
     "output_type": "execute_result"
    }
   ],
   "source": [
    "df.groupby('sex').min()"
   ]
  },
  {
   "cell_type": "code",
   "execution_count": 7,
   "metadata": {},
   "outputs": [
    {
     "data": {
      "text/plain": [
       "10.0"
      ]
     },
     "execution_count": 7,
     "metadata": {},
     "output_type": "execute_result"
    }
   ],
   "source": [
    "np.max(df['tip'])"
   ]
  },
  {
   "cell_type": "code",
   "execution_count": 8,
   "metadata": {},
   "outputs": [
    {
     "data": {
      "text/plain": [
       "10.0"
      ]
     },
     "execution_count": 8,
     "metadata": {},
     "output_type": "execute_result"
    }
   ],
   "source": [
    "df['tip'].max()"
   ]
  },
  {
   "cell_type": "code",
   "execution_count": 9,
   "metadata": {},
   "outputs": [
    {
     "data": {
      "text/html": [
       "<div>\n",
       "<style scoped>\n",
       "    .dataframe tbody tr th:only-of-type {\n",
       "        vertical-align: middle;\n",
       "    }\n",
       "\n",
       "    .dataframe tbody tr th {\n",
       "        vertical-align: top;\n",
       "    }\n",
       "\n",
       "    .dataframe thead th {\n",
       "        text-align: right;\n",
       "    }\n",
       "</style>\n",
       "<table border=\"1\" class=\"dataframe\">\n",
       "  <thead>\n",
       "    <tr style=\"text-align: right;\">\n",
       "      <th></th>\n",
       "      <th>total_bill</th>\n",
       "      <th>tip</th>\n",
       "      <th>size</th>\n",
       "      <th>tip_rate</th>\n",
       "    </tr>\n",
       "    <tr>\n",
       "      <th>sex</th>\n",
       "      <th></th>\n",
       "      <th></th>\n",
       "      <th></th>\n",
       "      <th></th>\n",
       "    </tr>\n",
       "  </thead>\n",
       "  <tbody>\n",
       "    <tr>\n",
       "      <th>Male</th>\n",
       "      <td>50.81</td>\n",
       "      <td>10.0</td>\n",
       "      <td>6</td>\n",
       "      <td>0.710345</td>\n",
       "    </tr>\n",
       "    <tr>\n",
       "      <th>Female</th>\n",
       "      <td>44.30</td>\n",
       "      <td>6.5</td>\n",
       "      <td>6</td>\n",
       "      <td>0.416667</td>\n",
       "    </tr>\n",
       "  </tbody>\n",
       "</table>\n",
       "</div>"
      ],
      "text/plain": [
       "        total_bill   tip  size  tip_rate\n",
       "sex                                     \n",
       "Male         50.81  10.0     6  0.710345\n",
       "Female       44.30   6.5     6  0.416667"
      ]
     },
     "execution_count": 9,
     "metadata": {},
     "output_type": "execute_result"
    }
   ],
   "source": [
    "df.groupby('sex').max()"
   ]
  },
  {
   "cell_type": "markdown",
   "metadata": {},
   "source": [
    "## 四分位数"
   ]
  },
  {
   "cell_type": "code",
   "execution_count": 14,
   "metadata": {},
   "outputs": [
    {
     "data": {
      "text/plain": [
       "array([0.12912736, 0.15476977, 0.19147549])"
      ]
     },
     "execution_count": 14,
     "metadata": {},
     "output_type": "execute_result"
    }
   ],
   "source": [
    "np.quantile(df['tip_rate'], [0.25, 0.5, 0.75])"
   ]
  },
  {
   "cell_type": "code",
   "execution_count": 16,
   "metadata": {},
   "outputs": [
    {
     "data": {
      "text/plain": [
       "0.25    0.129127\n",
       "0.50    0.154770\n",
       "0.75    0.191475\n",
       "Name: tip_rate, dtype: float64"
      ]
     },
     "execution_count": 16,
     "metadata": {},
     "output_type": "execute_result"
    }
   ],
   "source": [
    "df['tip_rate'].quantile([0.25, 0.5, 0.75])"
   ]
  },
  {
   "cell_type": "code",
   "execution_count": 18,
   "metadata": {},
   "outputs": [
    {
     "data": {
      "text/plain": [
       "0.03117406229344577"
      ]
     },
     "execution_count": 18,
     "metadata": {},
     "output_type": "execute_result"
    }
   ],
   "source": [
    "stats.iqr(df['tip_rate']) / 2"
   ]
  },
  {
   "cell_type": "code",
   "execution_count": 22,
   "metadata": {},
   "outputs": [
    {
     "data": {
      "image/png": "[encoded data removed]",
      "text/plain": [
       "<Figure size 432x288 with 1 Axes>"
      ]
     },
     "metadata": {
      "needs_background": "light"
     },
     "output_type": "display_data"
    }
   ],
   "source": [
    "plt.boxplot(df['tip_rate'])\n",
    "plt.show()"
   ]
  },
  {
   "cell_type": "code",
   "execution_count": 25,
   "metadata": {},
   "outputs": [
    {
     "data": {
      "text/plain": [
       "<matplotlib.axes._subplots.AxesSubplot at 0x7f276a712c50>"
      ]
     },
     "execution_count": 25,
     "metadata": {},
     "output_type": "execute_result"
    },
    {
     "data": {
      "image/png": "[encoded data removed]",
      "text/plain": [
       "<Figure size 432x288 with 1 Axes>"
      ]
     },
     "metadata": {
      "needs_background": "light"
     },
     "output_type": "display_data"
    }
   ],
   "source": [
    "sns.boxplot(x='sex', y='tip_rate', data=df)"
   ]
  },
  {
   "cell_type": "markdown",
   "metadata": {},
   "source": [
    "## 分散と標準偏差"
   ]
  },
  {
   "cell_type": "code",
   "execution_count": 4,
   "metadata": {},
   "outputs": [
    {
     "data": {
      "text/plain": [
       "0.0037145280013546928"
      ]
     },
     "execution_count": 4,
     "metadata": {},
     "output_type": "execute_result"
    }
   ],
   "source": [
    "np.var(df['tip_rate'])"
   ]
  },
  {
   "cell_type": "code",
   "execution_count": 5,
   "metadata": {},
   "outputs": [
    {
     "data": {
      "text/plain": [
       "0.060946927743362855"
      ]
     },
     "execution_count": 5,
     "metadata": {},
     "output_type": "execute_result"
    }
   ],
   "source": [
    "np.std(df['tip_rate'])"
   ]
  },
  {
   "cell_type": "code",
   "execution_count": 6,
   "metadata": {},
   "outputs": [
    {
     "data": {
      "text/plain": [
       "0.060946927743362855"
      ]
     },
     "execution_count": 6,
     "metadata": {},
     "output_type": "execute_result"
    }
   ],
   "source": [
    "np.sqrt(np.var(df['tip_rate']))"
   ]
  },
  {
   "cell_type": "markdown",
   "metadata": {},
   "source": [
    "## 共分散"
   ]
  },
  {
   "cell_type": "code",
   "execution_count": 8,
   "metadata": {},
   "outputs": [
    {
     "data": {
      "text/plain": [
       "array([[78.92813149,  8.28938892],\n",
       "       [ 8.28938892,  1.90660851]])"
      ]
     },
     "execution_count": 8,
     "metadata": {},
     "output_type": "execute_result"
    }
   ],
   "source": [
    "np.cov(df[\"total_bill\"], df[\"tip\"], bias=True)"
   ]
  },
  {
   "cell_type": "code",
   "execution_count": 14,
   "metadata": {},
   "outputs": [
    {
     "data": {
      "text/plain": [
       "array([[78.92813149,  8.28938892,  5.04522121],\n",
       "       [ 8.28938892,  1.90660851,  0.64126747],\n",
       "       [ 5.04522121,  0.64126747,  0.9008835 ]])"
      ]
     },
     "execution_count": 14,
     "metadata": {},
     "output_type": "execute_result"
    }
   ],
   "source": [
    "x = np.stack([df[\"total_bill\"], df[\"tip\"], df[\"size\"]], axis=0)\n",
    "np.cov(x, bias=True)"
   ]
  },
  {
   "cell_type": "markdown",
   "metadata": {},
   "source": [
    "## 相関係数"
   ]
  },
  {
   "cell_type": "code",
   "execution_count": 15,
   "metadata": {},
   "outputs": [
    {
     "data": {
      "text/plain": [
       "array([[1.        , 0.67573411],\n",
       "       [0.67573411, 1.        ]])"
      ]
     },
     "execution_count": 15,
     "metadata": {},
     "output_type": "execute_result"
    }
   ],
   "source": [
    "np.corrcoef(df[\"total_bill\"], df[\"tip\"])"
   ]
  },
  {
   "cell_type": "code",
   "execution_count": 16,
   "metadata": {},
   "outputs": [
    {
     "data": {
      "text/plain": [
       "array([[1.        , 0.67573411, 0.59831513],\n",
       "       [0.67573411, 1.        , 0.48929878],\n",
       "       [0.59831513, 0.48929878, 1.        ]])"
      ]
     },
     "execution_count": 16,
     "metadata": {},
     "output_type": "execute_result"
    }
   ],
   "source": [
    "x = np.stack([df[\"total_bill\"], df[\"tip\"], df[\"size\"]], axis=0)\n",
    "np.corrcoef(x)"
   ]
  },
  {
   "cell_type": "code",
   "execution_count": 17,
   "metadata": {},
   "outputs": [
    {
     "data": {
      "text/html": [
       "<div>\n",
       "<style scoped>\n",
       "    .dataframe tbody tr th:only-of-type {\n",
       "        vertical-align: middle;\n",
       "    }\n",
       "\n",
       "    .dataframe tbody tr th {\n",
       "        vertical-align: top;\n",
       "    }\n",
       "\n",
       "    .dataframe thead th {\n",
       "        text-align: right;\n",
       "    }\n",
       "</style>\n",
       "<table border=\"1\" class=\"dataframe\">\n",
       "  <thead>\n",
       "    <tr style=\"text-align: right;\">\n",
       "      <th></th>\n",
       "      <th>total_bill</th>\n",
       "      <th>tip</th>\n",
       "      <th>size</th>\n",
       "      <th>tip_rate</th>\n",
       "    </tr>\n",
       "  </thead>\n",
       "  <tbody>\n",
       "    <tr>\n",
       "      <th>total_bill</th>\n",
       "      <td>1.000000</td>\n",
       "      <td>0.675734</td>\n",
       "      <td>0.598315</td>\n",
       "      <td>-0.338624</td>\n",
       "    </tr>\n",
       "    <tr>\n",
       "      <th>tip</th>\n",
       "      <td>0.675734</td>\n",
       "      <td>1.000000</td>\n",
       "      <td>0.489299</td>\n",
       "      <td>0.342370</td>\n",
       "    </tr>\n",
       "    <tr>\n",
       "      <th>size</th>\n",
       "      <td>0.598315</td>\n",
       "      <td>0.489299</td>\n",
       "      <td>1.000000</td>\n",
       "      <td>-0.142860</td>\n",
       "    </tr>\n",
       "    <tr>\n",
       "      <th>tip_rate</th>\n",
       "      <td>-0.338624</td>\n",
       "      <td>0.342370</td>\n",
       "      <td>-0.142860</td>\n",
       "      <td>1.000000</td>\n",
       "    </tr>\n",
       "  </tbody>\n",
       "</table>\n",
       "</div>"
      ],
      "text/plain": [
       "            total_bill       tip      size  tip_rate\n",
       "total_bill    1.000000  0.675734  0.598315 -0.338624\n",
       "tip           0.675734  1.000000  0.489299  0.342370\n",
       "size          0.598315  0.489299  1.000000 -0.142860\n",
       "tip_rate     -0.338624  0.342370 -0.142860  1.000000"
      ]
     },
     "execution_count": 17,
     "metadata": {},
     "output_type": "execute_result"
    }
   ],
   "source": [
    "df.corr()"
   ]
  },
  {
   "cell_type": "code",
   "execution_count": 19,
   "metadata": {},
   "outputs": [
    {
     "data": {
      "text/plain": [
       "<matplotlib.axes._subplots.AxesSubplot at 0x7f6e2971a410>"
      ]
     },
     "execution_count": 19,
     "metadata": {},
     "output_type": "execute_result"
    },
    {
     "data": {
      "image/png": "[encoded data removed]",
      "text/plain": [
       "<Figure size 432x288 with 2 Axes>"
      ]
     },
     "metadata": {
      "needs_background": "light"
     },
     "output_type": "display_data"
    }
   ],
   "source": [
    "sns.heatmap(df.corr(), cmap=\"coolwarm\", annot=True)"
   ]
  },
  {
   "cell_type": "markdown",
   "metadata": {},
   "source": [
    "## 連関"
   ]
  },
  {
   "cell_type": "code",
   "execution_count": 23,
   "metadata": {},
   "outputs": [
    {
     "data": {
      "text/html": [
       "<div>\n",
       "<style scoped>\n",
       "    .dataframe tbody tr th:only-of-type {\n",
       "        vertical-align: middle;\n",
       "    }\n",
       "\n",
       "    .dataframe tbody tr th {\n",
       "        vertical-align: top;\n",
       "    }\n",
       "\n",
       "    .dataframe thead th {\n",
       "        text-align: right;\n",
       "    }\n",
       "</style>\n",
       "<table border=\"1\" class=\"dataframe\">\n",
       "  <thead>\n",
       "    <tr style=\"text-align: right;\">\n",
       "      <th>time</th>\n",
       "      <th>Lunch</th>\n",
       "      <th>Dinner</th>\n",
       "    </tr>\n",
       "    <tr>\n",
       "      <th>sex</th>\n",
       "      <th></th>\n",
       "      <th></th>\n",
       "    </tr>\n",
       "  </thead>\n",
       "  <tbody>\n",
       "    <tr>\n",
       "      <th>Male</th>\n",
       "      <td>33</td>\n",
       "      <td>124</td>\n",
       "    </tr>\n",
       "    <tr>\n",
       "      <th>Female</th>\n",
       "      <td>35</td>\n",
       "      <td>52</td>\n",
       "    </tr>\n",
       "  </tbody>\n",
       "</table>\n",
       "</div>"
      ],
      "text/plain": [
       "time    Lunch  Dinner\n",
       "sex                  \n",
       "Male       33     124\n",
       "Female     35      52"
      ]
     },
     "execution_count": 23,
     "metadata": {},
     "output_type": "execute_result"
    }
   ],
   "source": [
    "pd.crosstab(df[\"sex\"], df[\"time\"])"
   ]
  },
  {
   "cell_type": "code",
   "execution_count": 25,
   "metadata": {},
   "outputs": [
    {
     "data": {
      "text/plain": [
       "(10.277251918677742,\n",
       " 0.0013468039268008766,\n",
       " 1,\n",
       " array([[ 43.75409836, 113.24590164],\n",
       "        [ 24.24590164,  62.75409836]]))"
      ]
     },
     "execution_count": 25,
     "metadata": {},
     "output_type": "execute_result"
    }
   ],
   "source": [
    "cont_table = pd.crosstab(df[\"sex\"], df[\"time\"])\n",
    "stats.chi2_contingency(cont_table, correction=False)"
   ]
  },
  {
   "cell_type": "markdown",
   "metadata": {},
   "source": [
    "## クラメールの連関係数"
   ]
  },
  {
   "cell_type": "code",
   "execution_count": 35,
   "metadata": {},
   "outputs": [],
   "source": [
    "def cramers_v(x, y):\n",
    "    cont_table = pd.crosstab(df[\"sex\"], df[\"time\"])\n",
    "    chi2 = stats.chi2_contingency(cont_table, correction=False)[0]\n",
    "    min_d = min(cont_table.shape) - 1\n",
    "    n = len(x)\n",
    "    v = np.sqrt(chi2/(min_d*n))\n",
    "    return v"
   ]
  },
  {
   "cell_type": "code",
   "execution_count": 36,
   "metadata": {},
   "outputs": [
    {
     "data": {
      "text/plain": [
       "0.20523129613344476"
      ]
     },
     "execution_count": 36,
     "metadata": {},
     "output_type": "execute_result"
    }
   ],
   "source": [
    "cramers_v(df[\"sex\"], df[\"time\"])"
   ]
  },
  {
   "cell_type": "markdown",
   "metadata": {},
   "source": [
    "## 確率分布"
   ]
  },
  {
   "cell_type": "code",
   "execution_count": 8,
   "metadata": {},
   "outputs": [
    {
     "data": {
      "text/plain": [
       "4"
      ]
     },
     "execution_count": 8,
     "metadata": {},
     "output_type": "execute_result"
    }
   ],
   "source": [
    "stats.randint(1, 7).rvs()"
   ]
  },
  {
   "cell_type": "code",
   "execution_count": 16,
   "metadata": {},
   "outputs": [
    {
     "data": {
      "text/plain": [
       "0.04142968153472848"
      ]
     },
     "execution_count": 16,
     "metadata": {},
     "output_type": "execute_result"
    }
   ],
   "source": [
    "stats.uniform(0, 1).rvs()"
   ]
  },
  {
   "cell_type": "markdown",
   "metadata": {},
   "source": [
    "## 確率分布の描画"
   ]
  },
  {
   "cell_type": "code",
   "execution_count": 32,
   "metadata": {},
   "outputs": [],
   "source": [
    "def simple_func(x):\n",
    "    return 2*x + 3"
   ]
  },
  {
   "cell_type": "code",
   "execution_count": 33,
   "metadata": {},
   "outputs": [
    {
     "data": {
      "text/plain": [
       "23"
      ]
     },
     "execution_count": 33,
     "metadata": {},
     "output_type": "execute_result"
    }
   ],
   "source": [
    "simple_func(10)"
   ]
  },
  {
   "cell_type": "code",
   "execution_count": 34,
   "metadata": {},
   "outputs": [],
   "source": [
    "x = np.linspace(-3, 3, 100)\n",
    "y = simple_func(x)"
   ]
  },
  {
   "cell_type": "code",
   "execution_count": 35,
   "metadata": {},
   "outputs": [
    {
     "data": {
      "text/plain": [
       "[<matplotlib.lines.Line2D at 0x7f8f7f9a4850>]"
      ]
     },
     "execution_count": 35,
     "metadata": {},
     "output_type": "execute_result"
    },
    {
     "data": {
      "image/png": "[encoded data removed]",
      "text/plain": [
       "<Figure size 432x288 with 1 Axes>"
      ]
     },
     "metadata": {
      "needs_background": "light"
     },
     "output_type": "display_data"
    }
   ],
   "source": [
    "plt.plot(x, y)"
   ]
  },
  {
   "cell_type": "code",
   "execution_count": 38,
   "metadata": {},
   "outputs": [
    {
     "data": {
      "text/plain": [
       "array([-3.        , -2.93939394, -2.87878788, -2.81818182, -2.75757576,\n",
       "       -2.6969697 , -2.63636364, -2.57575758, -2.51515152, -2.45454545,\n",
       "       -2.39393939, -2.33333333, -2.27272727, -2.21212121, -2.15151515,\n",
       "       -2.09090909, -2.03030303, -1.96969697, -1.90909091, -1.84848485,\n",
       "       -1.78787879, -1.72727273, -1.66666667, -1.60606061, -1.54545455,\n",
       "       -1.48484848, -1.42424242, -1.36363636, -1.3030303 , -1.24242424,\n",
       "       -1.18181818, -1.12121212, -1.06060606, -1.        , -0.93939394,\n",
       "       -0.87878788, -0.81818182, -0.75757576, -0.6969697 , -0.63636364,\n",
       "       -0.57575758, -0.51515152, -0.45454545, -0.39393939, -0.33333333,\n",
       "       -0.27272727, -0.21212121, -0.15151515, -0.09090909, -0.03030303,\n",
       "        0.03030303,  0.09090909,  0.15151515,  0.21212121,  0.27272727,\n",
       "        0.33333333,  0.39393939,  0.45454545,  0.51515152,  0.57575758,\n",
       "        0.63636364,  0.6969697 ,  0.75757576,  0.81818182,  0.87878788,\n",
       "        0.93939394,  1.        ,  1.06060606,  1.12121212,  1.18181818,\n",
       "        1.24242424,  1.3030303 ,  1.36363636,  1.42424242,  1.48484848,\n",
       "        1.54545455,  1.60606061,  1.66666667,  1.72727273,  1.78787879,\n",
       "        1.84848485,  1.90909091,  1.96969697,  2.03030303,  2.09090909,\n",
       "        2.15151515,  2.21212121,  2.27272727,  2.33333333,  2.39393939,\n",
       "        2.45454545,  2.51515152,  2.57575758,  2.63636364,  2.6969697 ,\n",
       "        2.75757576,  2.81818182,  2.87878788,  2.93939394,  3.        ])"
      ]
     },
     "execution_count": 38,
     "metadata": {},
     "output_type": "execute_result"
    }
   ],
   "source": [
    "x"
   ]
  },
  {
   "cell_type": "code",
   "execution_count": 37,
   "metadata": {},
   "outputs": [
    {
     "data": {
      "text/plain": [
       "array([-3, -2, -1,  0,  1,  2,  3])"
      ]
     },
     "execution_count": 37,
     "metadata": {},
     "output_type": "execute_result"
    }
   ],
   "source": [
    "z = np.arange(-3, 4)\n",
    "z"
   ]
  },
  {
   "cell_type": "code",
   "execution_count": 43,
   "metadata": {},
   "outputs": [
    {
     "data": {
      "text/plain": [
       "<matplotlib.collections.LineCollection at 0x7f8f7dac3350>"
      ]
     },
     "execution_count": 43,
     "metadata": {},
     "output_type": "execute_result"
    },
    {
     "data": {
      "image/png": "[encoded data removed]",
      "text/plain": [
       "<Figure size 432x288 with 1 Axes>"
      ]
     },
     "metadata": {
      "needs_background": "light"
     },
     "output_type": "display_data"
    }
   ],
   "source": [
    "x = np.arange(1, 7)\n",
    "y = stats.randint(1, 7).pmf(x)\n",
    "plt.plot(x, y, \"o\")\n",
    "plt.vlines(x, 0, y)"
   ]
  },
  {
   "cell_type": "code",
   "execution_count": 45,
   "metadata": {},
   "outputs": [
    {
     "data": {
      "text/plain": [
       "[<matplotlib.lines.Line2D at 0x7f8f7d1f01d0>]"
      ]
     },
     "execution_count": 45,
     "metadata": {},
     "output_type": "execute_result"
    },
    {
     "data": {
      "image/png": "[encoded data removed]",
      "text/plain": [
       "<Figure size 432x288 with 1 Axes>"
      ]
     },
     "metadata": {
      "needs_background": "light"
     },
     "output_type": "display_data"
    }
   ],
   "source": [
    "x = np.linspace(-2, 2, 100)\n",
    "y = stats.uniform(loc=0, scale=1).pdf(x)\n",
    "plt.plot(x, y)"
   ]
  },
  {
   "cell_type": "markdown",
   "metadata": {},
   "source": [
    "## 累積分布関数"
   ]
  },
  {
   "cell_type": "code",
   "execution_count": 46,
   "metadata": {},
   "outputs": [
    {
     "data": {
      "text/plain": [
       "[<matplotlib.lines.Line2D at 0x7f8f7ea8f0d0>]"
      ]
     },
     "execution_count": 46,
     "metadata": {},
     "output_type": "execute_result"
    },
    {
     "data": {
      "image/png": "[encoded data removed]",
      "text/plain": [
       "<Figure size 432x288 with 1 Axes>"
      ]
     },
     "metadata": {
      "needs_background": "light"
     },
     "output_type": "display_data"
    }
   ],
   "source": [
    "x = np.linspace(-3, 3, 100)\n",
    "y = stats.norm.pdf(x)\n",
    "plt.plot(x, y)"
   ]
  },
  {
   "cell_type": "code",
   "execution_count": 47,
   "metadata": {},
   "outputs": [
    {
     "data": {
      "text/plain": [
       "[<matplotlib.lines.Line2D at 0x7f8f7e348dd0>]"
      ]
     },
     "execution_count": 47,
     "metadata": {},
     "output_type": "execute_result"
    },
    {
     "data": {
      "image/png": "[encoded data removed]",
      "text/plain": [
       "<Figure size 432x288 with 1 Axes>"
      ]
     },
     "metadata": {
      "needs_background": "light"
     },
     "output_type": "display_data"
    }
   ],
   "source": [
    "y = stats.norm.cdf(x)\n",
    "plt.plot(x, y)"
   ]
  },
  {
   "cell_type": "code",
   "execution_count": 48,
   "metadata": {},
   "outputs": [
    {
     "data": {
      "text/plain": [
       "[<matplotlib.lines.Line2D at 0x7f8f7cc91690>]"
      ]
     },
     "execution_count": 48,
     "metadata": {},
     "output_type": "execute_result"
    },
    {
     "data": {
      "image/png": "[encoded data removed]",
      "text/plain": [
       "<Figure size 432x288 with 1 Axes>"
      ]
     },
     "metadata": {
      "needs_background": "light"
     },
     "output_type": "display_data"
    }
   ],
   "source": [
    "y = stats.norm.sf(x)\n",
    "plt.plot(x, y)"
   ]
  },
  {
   "cell_type": "markdown",
   "metadata": {},
   "source": [
    "## 正規分布"
   ]
  },
  {
   "cell_type": "code",
   "execution_count": 64,
   "metadata": {},
   "outputs": [
    {
     "data": {
      "text/plain": [
       "[<matplotlib.lines.Line2D at 0x7f8f7cc18350>]"
      ]
     },
     "execution_count": 64,
     "metadata": {},
     "output_type": "execute_result"
    },
    {
     "data": {
      "image/png": "[encoded data removed]",
      "text/plain": [
       "<Figure size 432x288 with 1 Axes>"
      ]
     },
     "metadata": {
      "needs_background": "light"
     },
     "output_type": "display_data"
    }
   ],
   "source": [
    "x = np.linspace(-5, 15, 100)\n",
    "y = stats.norm(loc=10, scale=3).pdf(x)\n",
    "y2 = stats.norm(loc=8, scale=3).pdf(x)\n",
    "y3 = stats.norm(loc=8, scale=1).pdf(x)\n",
    "plt.plot(x, y)\n",
    "plt.plot(x, y2)\n",
    "plt.plot(x, y3)"
   ]
  },
  {
   "cell_type": "code",
   "execution_count": 65,
   "metadata": {},
   "outputs": [
    {
     "data": {
      "text/plain": [
       "[<matplotlib.lines.Line2D at 0x7f8f7cb8d190>]"
      ]
     },
     "execution_count": 65,
     "metadata": {},
     "output_type": "execute_result"
    },
    {
     "data": {
      "image/png": "[encoded data removed]",
      "text/plain": [
       "<Figure size 432x288 with 1 Axes>"
      ]
     },
     "metadata": {
      "needs_background": "light"
     },
     "output_type": "display_data"
    }
   ],
   "source": [
    "y = stats.norm.pdf(x)\n",
    "plt.plot(x, y)"
   ]
  },
  {
   "cell_type": "markdown",
   "metadata": {},
   "source": [
    "## KDE"
   ]
  },
  {
   "cell_type": "code",
   "execution_count": 70,
   "metadata": {},
   "outputs": [
    {
     "data": {
      "text/plain": [
       "[<matplotlib.lines.Line2D at 0x7f8f7ca674d0>]"
      ]
     },
     "execution_count": 70,
     "metadata": {},
     "output_type": "execute_result"
    },
    {
     "data": {
      "image/png": "[encoded data removed]",
      "text/plain": [
       "<Figure size 432x288 with 1 Axes>"
      ]
     },
     "metadata": {
      "needs_background": "light"
     },
     "output_type": "display_data"
    }
   ],
   "source": [
    "x = np.linspace(-3, 10, 100)\n",
    "y = stats.gaussian_kde(df[\"tip\"]).pdf(x)\n",
    "plt.plot(x, y)"
   ]
  },
  {
   "cell_type": "code",
   "execution_count": 72,
   "metadata": {},
   "outputs": [
    {
     "data": {
      "text/plain": [
       "<matplotlib.axes._subplots.AxesSubplot at 0x7f8f7ca0c710>"
      ]
     },
     "execution_count": 72,
     "metadata": {},
     "output_type": "execute_result"
    },
    {
     "data": {
      "image/png": "[encoded data removed]",
      "text/plain": [
       "<Figure size 432x288 with 1 Axes>"
      ]
     },
     "metadata": {
      "needs_background": "light"
     },
     "output_type": "display_data"
    }
   ],
   "source": [
    "sns.distplot(df[\"tip\"], kde=True)"
   ]
  },
  {
   "cell_type": "code",
   "execution_count": 73,
   "metadata": {},
   "outputs": [
    {
     "data": {
      "text/plain": [
       "array([[ 1.857529  ,  2.54969064,  3.57535072,  2.92346429,  3.23063117,\n",
       "         4.03164682,  2.2137909 ,  2.14104727,  5.30339051,  5.52876655,\n",
       "         2.19688769,  3.35474593,  2.38533602,  1.44389644,  2.63587224,\n",
       "         3.98910617,  1.4463859 ,  1.17855077,  2.48746136,  2.76093784,\n",
       "         2.0457208 ,  1.02979664,  5.27090313,  2.63131931,  1.69632887,\n",
       "         3.14281936,  1.05127009,  2.08317942,  3.50323508,  4.43704181,\n",
       "         1.72152816,  1.41917214,  1.08365559,  4.47572721,  1.15655004,\n",
       "         3.306381  ,  3.18922775,  1.79209505,  2.8968088 ,  2.95901382,\n",
       "         2.47416255,  3.41580244,  1.72217594,  4.04764127,  1.39475102,\n",
       "         5.84109739,  2.2149213 ,  1.66177553,  3.31090548,  2.00878074,\n",
       "         2.42929676,  4.28905047,  6.04907817,  2.72867218,  5.48465099,\n",
       "         3.16445303,  4.5755469 ,  1.94644821,  2.72818549,  6.69276173,\n",
       "         2.65144005,  1.7308234 ,  6.3883914 ,  4.45101839,  1.13323156,\n",
       "         3.19389482,  2.04963587,  1.42049623,  2.64806168,  3.38523575,\n",
       "         2.50357132,  6.39886809,  6.12648041,  2.13219019,  3.12443042,\n",
       "         1.40243393,  2.91975677,  2.4727945 ,  3.91843861,  3.0364139 ,\n",
       "         2.40133256,  4.05374518,  2.59032932,  2.09075513,  1.36288792,\n",
       "         3.31548184,  3.16805003,  1.67876248,  0.82990058,  1.58386319,\n",
       "         1.66219046,  2.39438824,  3.37364997,  3.68446833,  4.85072976,\n",
       "         2.92584384,  3.7703814 ,  1.79840768,  3.79667451,  0.56752992,\n",
       "         3.63462712,  0.81776492,  4.27829863,  2.45343418,  2.05196454,\n",
       "         1.36448986,  3.20528984,  5.90699028,  2.55597484,  1.18982175,\n",
       "         6.66390418,  2.41324247, 10.62105325,  4.52122041,  3.34242504,\n",
       "         4.27910401,  1.38133404,  1.88625451,  4.03695848,  1.92890433,\n",
       "         2.16466701,  2.36957776,  1.43365793,  1.61717679,  5.33880414,\n",
       "         2.96381769,  1.47476396,  2.22541113,  3.54462207,  2.19764495,\n",
       "         3.93699235,  2.07227471,  1.21073539,  3.97085218,  1.83244565,\n",
       "         1.61180422,  5.20802489,  2.08528538,  2.49923862,  2.81055262,\n",
       "         1.04224508,  4.35770837,  3.38746899,  1.92321033,  3.86868   ,\n",
       "         0.96127585,  4.62111746,  1.34757083,  1.87153527,  2.21084404,\n",
       "         3.6315534 ,  4.43129868,  6.15541419,  1.49140301,  2.3482231 ,\n",
       "         4.0008324 ,  3.2512301 ,  2.26994826,  2.8437304 ,  1.91979644,\n",
       "         2.29963585,  1.22300167,  2.61037264,  1.87237956,  1.79869678,\n",
       "         2.67026821,  5.20017653,  1.54428312,  3.46410932,  2.63458878,\n",
       "         3.63148654,  7.64471553,  1.9813062 ,  3.16089881,  0.86304394,\n",
       "         3.08170596,  1.27807999,  3.80179278,  3.38390233,  2.40397267,\n",
       "         3.22422055,  5.13372352,  2.32390893,  4.32570879,  2.28806378,\n",
       "         4.85790075,  3.68347518,  1.66723423,  4.5109427 ,  2.42067282,\n",
       "         3.75945804,  2.28384441,  2.93465546,  3.52880995,  3.82880203,\n",
       "         2.46608998,  2.94976194,  2.92997076,  6.10429651,  2.24129718,\n",
       "         4.52931232,  2.38059719,  2.96518644,  2.66809709,  2.58722885,\n",
       "         1.39087259,  1.4153765 ,  2.86907867,  3.30161173,  1.120017  ,\n",
       "         1.13082853,  1.26148158,  0.27844096,  3.03715577,  5.03215897,\n",
       "         2.35486157,  2.55336858,  2.88535356,  4.43487907,  1.51843687,\n",
       "         2.45373155,  5.17189443,  2.76776794,  2.58878242,  3.06823953,\n",
       "         1.3736703 ,  2.04380913,  2.79279945,  5.71063726,  2.3400836 ,\n",
       "         1.85748229,  2.21831077,  3.93648513,  1.59338876,  2.74012458,\n",
       "         3.42576636,  2.54683074,  3.02361989,  5.33764262,  4.8141169 ,\n",
       "         1.86502398,  3.54397853,  2.19701468,  4.51645406]])"
      ]
     },
     "execution_count": 73,
     "metadata": {},
     "output_type": "execute_result"
    }
   ],
   "source": [
    "stats.gaussian_kde(df[\"tip\"]).resample()"
   ]
  },
  {
   "cell_type": "markdown",
   "metadata": {},
   "source": [
    "## 63-95-99.7ルール"
   ]
  },
  {
   "cell_type": "code",
   "execution_count": 79,
   "metadata": {},
   "outputs": [],
   "source": [
    "group1 = []\n",
    "group2 = []\n",
    "group3 = []\n",
    "samples = []\n",
    "loc = 4\n",
    "scale = 3\n",
    "\n",
    "for i in range(1000):\n",
    "    sample = stats.norm(loc=loc, scale=scale).rvs()\n",
    "    if loc-scale < sample < loc+scale:\n",
    "        group1.append(sample)\n",
    "    elif loc-2*scale < sample < loc+2*scale:\n",
    "        group2.append(sample)\n",
    "    elif loc-3*scale < sample < loc+3*scale:\n",
    "        group3.append(sample)\n",
    "    samples.append(sample)"
   ]
  },
  {
   "cell_type": "code",
   "execution_count": 82,
   "metadata": {},
   "outputs": [
    {
     "name": "stdout",
     "output_type": "stream",
     "text": [
      "0.676\n",
      "0.932\n",
      "0.995\n"
     ]
    }
   ],
   "source": [
    "print(len(group1)/len(samples))\n",
    "print((len(group1) + len(group2))/len(samples))\n",
    "print((len(group1) + len(group2) + len(group3))/len(samples))"
   ]
  },
  {
   "cell_type": "markdown",
   "metadata": {},
   "source": [
    "## 標準化"
   ]
  },
  {
   "cell_type": "code",
   "execution_count": 85,
   "metadata": {},
   "outputs": [],
   "source": [
    "scaler = StandardScaler()"
   ]
  },
  {
   "cell_type": "code",
   "execution_count": 86,
   "metadata": {},
   "outputs": [
    {
     "data": {
      "text/plain": [
       "array([[-1.34164079],\n",
       "       [-0.4472136 ],\n",
       "       [ 0.4472136 ],\n",
       "       [ 1.34164079]])"
      ]
     },
     "execution_count": 86,
     "metadata": {},
     "output_type": "execute_result"
    }
   ],
   "source": [
    "scaler.fit_transform([[1], [2], [3], [4]])"
   ]
  },
  {
   "cell_type": "code",
   "execution_count": 92,
   "metadata": {},
   "outputs": [
    {
     "data": {
      "text/plain": [
       "array([[-1.66301817e+00],\n",
       "       [-4.28234299e-03],\n",
       "       [ 9.49146717e-02],\n",
       "       [-3.44925940e-01],\n",
       "       [-2.29624968e-01],\n",
       "       [ 4.17363756e-01],\n",
       "       [ 1.10337948e+00],\n",
       "       [-7.33936144e-01],\n",
       "       [-5.00163567e-01],\n",
       "       [ 9.47315739e-01],\n",
       "       [ 9.35535257e-02],\n",
       "       [-3.11727577e-01],\n",
       "       [-9.67838090e-01],\n",
       "       [ 3.24134057e-02],\n",
       "       [ 7.02885077e-01],\n",
       "       [ 3.42053237e-01],\n",
       "       [ 1.41511894e-02],\n",
       "       [ 1.09840651e+00],\n",
       "       [ 7.45627991e-01],\n",
       "       [ 2.33813456e-02],\n",
       "       [ 1.09728238e+00],\n",
       "       [-4.14587519e-01],\n",
       "       [-3.18225155e-01],\n",
       "       [ 5.16606793e-01],\n",
       "       [-5.88357399e-03],\n",
       "       [-4.82644844e-01],\n",
       "       [-1.83995336e-01],\n",
       "       [-5.24746516e-02],\n",
       "       [ 6.12895542e-01],\n",
       "       [-1.33408300e-01],\n",
       "       [-1.47179215e-01],\n",
       "       [-4.03019490e-01],\n",
       "       [ 6.30066304e-01],\n",
       "       [-6.95488521e-01],\n",
       "       [ 3.79214012e-01],\n",
       "       [-1.83383264e-01],\n",
       "       [-6.26420825e-01],\n",
       "       [ 3.36888626e-01],\n",
       "       [-6.10483210e-01],\n",
       "       [-1.48476102e-02],\n",
       "       [-3.47051274e-01],\n",
       "       [-2.51484529e-01],\n",
       "       [ 9.63290777e-01],\n",
       "       [-4.00987322e-01],\n",
       "       [ 3.84070953e-01],\n",
       "       [ 5.28570554e-02],\n",
       "       [ 1.05204148e+00],\n",
       "       [ 4.00062880e-01],\n",
       "       [-1.46026604e+00],\n",
       "       [ 9.01527935e-02],\n",
       "       [ 6.32672740e-01],\n",
       "       [ 1.50737567e+00],\n",
       "       [-1.87379754e-01],\n",
       "       [-6.33490804e-02],\n",
       "       [ 1.47570612e-01],\n",
       "       [ 3.16501160e-01],\n",
       "       [-1.34339804e+00],\n",
       "       [-1.70649970e+00],\n",
       "       [-6.92233716e-02],\n",
       "       [-3.50772542e-01],\n",
       "       [-4.26037703e-02],\n",
       "       [-2.62195159e-01],\n",
       "       [ 3.09625771e-01],\n",
       "       [ 7.34643039e-01],\n",
       "       [-1.75846534e-01],\n",
       "       [-6.44835090e-02],\n",
       "       [-1.74752140e-01],\n",
       "       [ 2.70613013e+00],\n",
       "       [-1.00817537e+00],\n",
       "       [-3.53784451e-01],\n",
       "       [ 5.07150927e-02],\n",
       "       [ 2.45202560e-01],\n",
       "       [-7.20300861e-01],\n",
       "       [ 6.06793973e-01],\n",
       "       [-1.87827745e-01],\n",
       "       [-6.86962166e-01],\n",
       "       [ 1.81673116e-01],\n",
       "       [-2.25503708e-01],\n",
       "       [-4.75698931e-01],\n",
       "       [-6.66905294e-02],\n",
       "       [-1.06348167e-01],\n",
       "       [ 7.10110461e-01],\n",
       "       [ 3.43336797e-01],\n",
       "       [-1.28042643e-01],\n",
       "       [-5.54068773e-01],\n",
       "       [-2.02919576e-01],\n",
       "       [-1.19950920e-01],\n",
       "       [ 9.51906867e-01],\n",
       "       [ 1.24606240e+00],\n",
       "       [-3.12167402e-01],\n",
       "       [-9.39295576e-01],\n",
       "       [-8.49568603e-02],\n",
       "       [ 2.15112759e-01],\n",
       "       [ 1.68470855e+00],\n",
       "       [-2.94443699e-01],\n",
       "       [-7.06401766e-01],\n",
       "       [-2.32579660e-01],\n",
       "       [-5.92553288e-01],\n",
       "       [-2.95559339e-01],\n",
       "       [-6.63156462e-01],\n",
       "       [ 9.75631384e-01],\n",
       "       [ 5.62061733e-01],\n",
       "       [-1.71245996e+00],\n",
       "       [-9.16211377e-02],\n",
       "       [ 5.61572178e-01],\n",
       "       [-8.86537688e-01],\n",
       "       [ 6.12711033e-01],\n",
       "       [ 1.53707264e-01],\n",
       "       [ 7.43889329e-01],\n",
       "       [ 1.94796080e+00],\n",
       "       [ 8.77536154e-01],\n",
       "       [-3.75269896e-01],\n",
       "       [-9.14450903e-01],\n",
       "       [-8.91443875e-01],\n",
       "       [-8.56662692e-02],\n",
       "       [ 6.79159437e-01],\n",
       "       [ 1.40986169e-01],\n",
       "       [-3.27457216e-01],\n",
       "       [-2.62386326e-01],\n",
       "       [-6.48763190e-01],\n",
       "       [ 6.03840260e-01],\n",
       "       [-5.84382083e-01],\n",
       "       [ 2.38124986e-01],\n",
       "       [-5.81009306e-01],\n",
       "       [ 6.74693487e-01],\n",
       "       [-3.25906246e-01],\n",
       "       [ 2.11763561e-01],\n",
       "       [-3.78387160e-01],\n",
       "       [ 2.45202560e-01],\n",
       "       [-1.07097023e+00],\n",
       "       [-1.34848847e+00],\n",
       "       [-3.47636667e-01],\n",
       "       [-4.35039313e-01],\n",
       "       [ 3.82226864e-02],\n",
       "       [ 2.81918791e-01],\n",
       "       [-2.28339078e-01],\n",
       "       [ 5.38308684e-01],\n",
       "       [-3.19291329e-01],\n",
       "       [-5.87438663e-01],\n",
       "       [ 7.90261058e-01],\n",
       "       [ 6.48775347e-01],\n",
       "       [ 5.66602723e-01],\n",
       "       [-6.46692075e-01],\n",
       "       [ 3.94446492e-01],\n",
       "       [-3.41522622e-01],\n",
       "       [ 3.09090836e-01],\n",
       "       [-1.44127377e+00],\n",
       "       [-3.85279543e-01],\n",
       "       [ 2.63984329e-01],\n",
       "       [ 1.73116196e+00],\n",
       "       [ 2.76969363e-01],\n",
       "       [-1.39131822e-01],\n",
       "       [-3.37019475e-02],\n",
       "       [-1.30172577e+00],\n",
       "       [-9.78543219e-01],\n",
       "       [ 1.86912180e-01],\n",
       "       [-9.35297952e-01],\n",
       "       [-1.77245714e-01],\n",
       "       [ 5.59814954e-01],\n",
       "       [-6.48383036e-01],\n",
       "       [ 3.26204458e-02],\n",
       "       [ 6.01667278e-01],\n",
       "       [-6.14008841e-01],\n",
       "       [-2.62195159e-01],\n",
       "       [ 1.72741873e-01],\n",
       "       [-3.09738706e-01],\n",
       "       [-8.68013801e-01],\n",
       "       [-3.09966611e-01],\n",
       "       [-1.43934483e-01],\n",
       "       [ 4.48655474e-01],\n",
       "       [ 5.90826656e-01],\n",
       "       [ 6.41064571e-01],\n",
       "       [ 9.01673417e+00],\n",
       "       [-1.00020739e+00],\n",
       "       [ 1.26355092e+00],\n",
       "       [-1.08740028e+00],\n",
       "       [-8.04114088e-01],\n",
       "       [-3.72144021e-01],\n",
       "       [ 4.19814574e+00],\n",
       "       [-9.56410951e-01],\n",
       "       [-8.95823260e-01],\n",
       "       [ 1.33517595e+00],\n",
       "       [-1.37209662e+00],\n",
       "       [ 1.96453862e+00],\n",
       "       [-1.42451552e+00],\n",
       "       [ 1.32672901e+00],\n",
       "       [ 1.09300556e-01],\n",
       "       [-1.56107458e+00],\n",
       "       [ 5.25619338e-01],\n",
       "       [ 2.02759875e-01],\n",
       "       [-1.06978792e+00],\n",
       "       [ 8.31982167e-01],\n",
       "       [-1.16147802e+00],\n",
       "       [-4.97344604e-01],\n",
       "       [ 1.32003277e+00],\n",
       "       [ 4.86876203e-01],\n",
       "       [ 5.35236429e-01],\n",
       "       [-7.35397381e-01],\n",
       "       [-1.14139106e-01],\n",
       "       [-2.09429617e-01],\n",
       "       [ 8.69393055e-01],\n",
       "       [-4.97446091e-02],\n",
       "       [-1.14139106e-01],\n",
       "       [-1.37226890e-01],\n",
       "       [ 5.58424250e-01],\n",
       "       [ 5.79382202e-01],\n",
       "       [-5.34216937e-01],\n",
       "       [-1.36747250e+00],\n",
       "       [-1.26602321e+00],\n",
       "       [ 2.29089621e-01],\n",
       "       [-1.54673887e+00],\n",
       "       [ 6.31732732e-01],\n",
       "       [ 4.17037552e-01],\n",
       "       [ 4.52726576e-01],\n",
       "       [ 1.14754500e+00],\n",
       "       [-1.23929567e+00],\n",
       "       [-8.89801138e-01],\n",
       "       [-5.14885121e-01],\n",
       "       [ 4.14195282e-01],\n",
       "       [-9.56258467e-01],\n",
       "       [ 3.30098196e-01],\n",
       "       [ 1.61635505e+00],\n",
       "       [ 1.03325376e+00],\n",
       "       [ 4.41894081e-01],\n",
       "       [-7.06645257e-01],\n",
       "       [-1.17242074e-01],\n",
       "       [ 6.13869725e-01],\n",
       "       [-2.31403218e-01],\n",
       "       [ 7.22213523e-01],\n",
       "       [-5.02136332e-01],\n",
       "       [-1.27166305e+00],\n",
       "       [ 4.98827559e-01],\n",
       "       [ 2.15248065e+00],\n",
       "       [-3.98909870e-01],\n",
       "       [ 5.31149320e-01],\n",
       "       [-6.01695617e-01],\n",
       "       [-1.33620357e+00],\n",
       "       [-2.05366292e+00],\n",
       "       [-4.99859091e-01],\n",
       "       [ 7.07572834e-01],\n",
       "       [-1.43106581e+00],\n",
       "       [-1.19087646e+00],\n",
       "       [-1.02709553e+00],\n",
       "       [-1.73622005e-02]])"
      ]
     },
     "execution_count": 92,
     "metadata": {},
     "output_type": "execute_result"
    }
   ],
   "source": [
    "scaled = scaler.fit_transform(df[\"tip_rate\"].values.reshape(-1, 1))\n",
    "scaled"
   ]
  },
  {
   "cell_type": "code",
   "execution_count": 95,
   "metadata": {},
   "outputs": [
    {
     "data": {
      "text/plain": [
       "array([[ 33.36981828],\n",
       "       [ 49.95717657],\n",
       "       [ 50.94914672],\n",
       "       [ 46.5507406 ],\n",
       "       [ 47.70375032],\n",
       "       [ 54.17363756],\n",
       "       [ 61.03379478],\n",
       "       [ 42.66063856],\n",
       "       [ 44.99836433],\n",
       "       [ 59.47315739],\n",
       "       [ 50.93553526],\n",
       "       [ 46.88272423],\n",
       "       [ 40.3216191 ],\n",
       "       [ 50.32413406],\n",
       "       [ 57.02885077],\n",
       "       [ 53.42053237],\n",
       "       [ 50.14151189],\n",
       "       [ 60.98406513],\n",
       "       [ 57.45627991],\n",
       "       [ 50.23381346],\n",
       "       [ 60.97282376],\n",
       "       [ 45.85412481],\n",
       "       [ 46.81774845],\n",
       "       [ 55.16606793],\n",
       "       [ 49.94116426],\n",
       "       [ 45.17355156],\n",
       "       [ 48.16004664],\n",
       "       [ 49.47525348],\n",
       "       [ 56.12895542],\n",
       "       [ 48.665917  ],\n",
       "       [ 48.52820785],\n",
       "       [ 45.9698051 ],\n",
       "       [ 56.30066304],\n",
       "       [ 43.04511479],\n",
       "       [ 53.79214012],\n",
       "       [ 48.16616736],\n",
       "       [ 43.73579175],\n",
       "       [ 53.36888626],\n",
       "       [ 43.8951679 ],\n",
       "       [ 49.8515239 ],\n",
       "       [ 46.52948726],\n",
       "       [ 47.48515471],\n",
       "       [ 59.63290777],\n",
       "       [ 45.99012678],\n",
       "       [ 53.84070953],\n",
       "       [ 50.52857055],\n",
       "       [ 60.52041476],\n",
       "       [ 54.0006288 ],\n",
       "       [ 35.3973396 ],\n",
       "       [ 50.90152794],\n",
       "       [ 56.3267274 ],\n",
       "       [ 65.07375667],\n",
       "       [ 48.12620246],\n",
       "       [ 49.3665092 ],\n",
       "       [ 51.47570612],\n",
       "       [ 53.1650116 ],\n",
       "       [ 36.56601957],\n",
       "       [ 32.93500302],\n",
       "       [ 49.30776628],\n",
       "       [ 46.49227458],\n",
       "       [ 49.5739623 ],\n",
       "       [ 47.37804841],\n",
       "       [ 53.09625771],\n",
       "       [ 57.34643039],\n",
       "       [ 48.24153466],\n",
       "       [ 49.35516491],\n",
       "       [ 48.2524786 ],\n",
       "       [ 77.06130127],\n",
       "       [ 39.91824625],\n",
       "       [ 46.46215549],\n",
       "       [ 50.50715093],\n",
       "       [ 52.4520256 ],\n",
       "       [ 42.79699139],\n",
       "       [ 56.06793973],\n",
       "       [ 48.12172255],\n",
       "       [ 43.13037834],\n",
       "       [ 51.81673116],\n",
       "       [ 47.74496292],\n",
       "       [ 45.24301069],\n",
       "       [ 49.33309471],\n",
       "       [ 48.93651833],\n",
       "       [ 57.10110461],\n",
       "       [ 53.43336797],\n",
       "       [ 48.71957357],\n",
       "       [ 44.45931227],\n",
       "       [ 47.97080424],\n",
       "       [ 48.8004908 ],\n",
       "       [ 59.51906867],\n",
       "       [ 62.46062397],\n",
       "       [ 46.87832598],\n",
       "       [ 40.60704424],\n",
       "       [ 49.1504314 ],\n",
       "       [ 52.15112759],\n",
       "       [ 66.84708553],\n",
       "       [ 47.05556301],\n",
       "       [ 42.93598234],\n",
       "       [ 47.6742034 ],\n",
       "       [ 44.07446712],\n",
       "       [ 47.04440661],\n",
       "       [ 43.36843538],\n",
       "       [ 59.75631384],\n",
       "       [ 55.62061733],\n",
       "       [ 32.87540045],\n",
       "       [ 49.08378862],\n",
       "       [ 55.61572178],\n",
       "       [ 41.13462312],\n",
       "       [ 56.12711033],\n",
       "       [ 51.53707264],\n",
       "       [ 57.43889329],\n",
       "       [ 69.479608  ],\n",
       "       [ 58.77536154],\n",
       "       [ 46.24730104],\n",
       "       [ 40.85549097],\n",
       "       [ 41.08556125],\n",
       "       [ 49.14333731],\n",
       "       [ 56.79159437],\n",
       "       [ 51.40986169],\n",
       "       [ 46.72542784],\n",
       "       [ 47.37613674],\n",
       "       [ 43.5123681 ],\n",
       "       [ 56.0384026 ],\n",
       "       [ 44.15617917],\n",
       "       [ 52.38124986],\n",
       "       [ 44.18990694],\n",
       "       [ 56.74693487],\n",
       "       [ 46.74093754],\n",
       "       [ 52.11763561],\n",
       "       [ 46.2161284 ],\n",
       "       [ 52.4520256 ],\n",
       "       [ 39.29029772],\n",
       "       [ 36.51511527],\n",
       "       [ 46.52363333],\n",
       "       [ 45.64960687],\n",
       "       [ 50.38222686],\n",
       "       [ 52.81918791],\n",
       "       [ 47.71660922],\n",
       "       [ 55.38308684],\n",
       "       [ 46.80708671],\n",
       "       [ 44.12561337],\n",
       "       [ 57.90261058],\n",
       "       [ 56.48775347],\n",
       "       [ 55.66602723],\n",
       "       [ 43.53307925],\n",
       "       [ 53.94446492],\n",
       "       [ 46.58477378],\n",
       "       [ 53.09090836],\n",
       "       [ 35.5872623 ],\n",
       "       [ 46.14720457],\n",
       "       [ 52.63984329],\n",
       "       [ 67.31161959],\n",
       "       [ 52.76969363],\n",
       "       [ 48.60868178],\n",
       "       [ 49.66298053],\n",
       "       [ 36.98274227],\n",
       "       [ 40.21456781],\n",
       "       [ 51.8691218 ],\n",
       "       [ 40.64702048],\n",
       "       [ 48.22754286],\n",
       "       [ 55.59814954],\n",
       "       [ 43.51616964],\n",
       "       [ 50.32620446],\n",
       "       [ 56.01667278],\n",
       "       [ 43.85991159],\n",
       "       [ 47.37804841],\n",
       "       [ 51.72741873],\n",
       "       [ 46.90261294],\n",
       "       [ 41.31986199],\n",
       "       [ 46.90033389],\n",
       "       [ 48.56065517],\n",
       "       [ 54.48655474],\n",
       "       [ 55.90826656],\n",
       "       [ 56.41064571],\n",
       "       [140.16734169],\n",
       "       [ 39.99792609],\n",
       "       [ 62.63550921],\n",
       "       [ 39.12599719],\n",
       "       [ 41.95885912],\n",
       "       [ 46.27855979],\n",
       "       [ 91.98145738],\n",
       "       [ 40.43589049],\n",
       "       [ 41.0417674 ],\n",
       "       [ 63.35175951],\n",
       "       [ 36.27903382],\n",
       "       [ 69.64538616],\n",
       "       [ 35.75484482],\n",
       "       [ 63.26729012],\n",
       "       [ 51.09300556],\n",
       "       [ 34.38925415],\n",
       "       [ 55.25619338],\n",
       "       [ 52.02759875],\n",
       "       [ 39.30212077],\n",
       "       [ 58.31982167],\n",
       "       [ 38.38521979],\n",
       "       [ 45.02655396],\n",
       "       [ 63.20032769],\n",
       "       [ 54.86876203],\n",
       "       [ 55.35236429],\n",
       "       [ 42.64602619],\n",
       "       [ 48.85860894],\n",
       "       [ 47.90570383],\n",
       "       [ 58.69393055],\n",
       "       [ 49.50255391],\n",
       "       [ 48.85860894],\n",
       "       [ 48.6277311 ],\n",
       "       [ 55.5842425 ],\n",
       "       [ 55.79382202],\n",
       "       [ 44.65783063],\n",
       "       [ 36.32527496],\n",
       "       [ 37.33976793],\n",
       "       [ 52.29089621],\n",
       "       [ 34.53261128],\n",
       "       [ 56.31732732],\n",
       "       [ 54.17037552],\n",
       "       [ 54.52726576],\n",
       "       [ 61.47545002],\n",
       "       [ 37.60704326],\n",
       "       [ 41.10198862],\n",
       "       [ 44.85114879],\n",
       "       [ 54.14195282],\n",
       "       [ 40.43741533],\n",
       "       [ 53.30098196],\n",
       "       [ 66.16355048],\n",
       "       [ 60.33253757],\n",
       "       [ 54.41894081],\n",
       "       [ 42.93354743],\n",
       "       [ 48.82757926],\n",
       "       [ 56.13869725],\n",
       "       [ 47.68596782],\n",
       "       [ 57.22213523],\n",
       "       [ 44.97863668],\n",
       "       [ 37.28336948],\n",
       "       [ 54.98827559],\n",
       "       [ 71.52480645],\n",
       "       [ 46.0109013 ],\n",
       "       [ 55.3114932 ],\n",
       "       [ 43.98304383],\n",
       "       [ 36.63796431],\n",
       "       [ 29.46337075],\n",
       "       [ 45.00140909],\n",
       "       [ 57.07572834],\n",
       "       [ 35.68934191],\n",
       "       [ 38.09123541],\n",
       "       [ 39.72904473],\n",
       "       [ 49.826378  ]])"
      ]
     },
     "execution_count": 95,
     "metadata": {},
     "output_type": "execute_result"
    }
   ],
   "source": [
    "#標準化\n",
    "scaled * 10 + 50"
   ]
  },
  {
   "cell_type": "code",
   "execution_count": 89,
   "metadata": {},
   "outputs": [
    {
     "data": {
      "text/plain": [
       "4"
      ]
     },
     "execution_count": 89,
     "metadata": {},
     "output_type": "execute_result"
    }
   ],
   "source": [
    "list_a = [1, 2, 3, 4]\n",
    "list_a[-1]"
   ]
  },
  {
   "cell_type": "code",
   "execution_count": 93,
   "metadata": {},
   "outputs": [
    {
     "data": {
      "text/plain": [
       "array([[-3.14711305e-01, -1.66301817e+00],\n",
       "       [-1.06323531e+00, -4.28234299e-03],\n",
       "       [ 1.37779900e-01,  9.49146717e-02],\n",
       "       [ 4.38315103e-01, -3.44925940e-01],\n",
       "       [ 5.40744704e-01, -2.29624968e-01],\n",
       "       [ 6.19536705e-01,  4.17363756e-01],\n",
       "       [-1.23995452e+00,  1.10337948e+00],\n",
       "       [ 7.98507107e-01, -7.33936144e-01],\n",
       "       [-5.34203307e-01, -5.00163567e-01],\n",
       "       [-5.63468908e-01,  9.47315739e-01],\n",
       "       [-1.07111451e+00,  9.35535257e-02],\n",
       "       [ 1.74175992e+00, -3.11727577e-01],\n",
       "       [-4.91430507e-01, -9.67838090e-01],\n",
       "       [-1.52624903e-01,  3.24134057e-02],\n",
       "       [-5.57840908e-01,  7.02885077e-01],\n",
       "       [ 2.01939101e-01,  3.42053237e-01],\n",
       "       [-1.06436091e+00,  1.41511894e-02],\n",
       "       [-3.93503306e-01,  1.09840651e+00],\n",
       "       [-3.16962505e-01,  7.45627991e-01],\n",
       "       [ 9.72582994e-02,  2.33813456e-02],\n",
       "       [-2.10030504e-01,  1.09728238e+00],\n",
       "       [ 5.67366990e-02, -4.14587519e-01],\n",
       "       [-4.52034507e-01, -3.18225155e-01],\n",
       "       [ 2.21000952e+00,  5.16606793e-01],\n",
       "       [ 3.83349840e-03, -5.88357399e-03],\n",
       "       [-2.22412104e-01, -4.82644844e-01],\n",
       "       [-7.22178510e-01, -1.83995336e-01],\n",
       "       [-7.98719310e-01, -5.24746516e-02],\n",
       "       [ 2.15446301e-01,  6.12895542e-01],\n",
       "       [-1.53017018e-02, -1.33408300e-01],\n",
       "       [-1.15215771e+00, -1.47179215e-01],\n",
       "       [-1.61629703e-01, -4.03019490e-01],\n",
       "       [-5.31952107e-01,  6.30066304e-01],\n",
       "       [ 1.01760699e-01, -6.95488521e-01],\n",
       "       [-2.25788904e-01,  3.79214012e-01],\n",
       "       [ 4.81087904e-01, -1.83383264e-01],\n",
       "       [-3.91252106e-01, -6.26420825e-01],\n",
       "       [-3.21464905e-01,  3.36888626e-01],\n",
       "       [-1.23359303e-01, -6.10483210e-01],\n",
       "       [ 1.29264551e+00, -1.48476102e-02],\n",
       "       [-4.21643306e-01, -3.47051274e-01],\n",
       "       [-2.61808105e-01, -2.51484529e-01],\n",
       "       [-6.58019309e-01,  9.63290777e-01],\n",
       "       [-1.13752491e+00, -4.00987322e-01],\n",
       "       [ 1.19471831e+00,  3.84070953e-01],\n",
       "       [-1.68383303e-01,  5.28570554e-02],\n",
       "       [ 2.75103101e-01,  1.05204148e+00],\n",
       "       [ 1.41983831e+00,  4.00062880e-01],\n",
       "       [ 9.86482309e-01, -1.46026604e+00],\n",
       "       [-1.96523304e-01,  9.01527935e-02],\n",
       "       [-8.15603311e-01,  6.32672740e-01],\n",
       "       [-1.06886331e+00,  1.50737567e+00],\n",
       "       [ 1.69110792e+00, -1.87379754e-01],\n",
       "       [-1.10825931e+00, -6.33490804e-02],\n",
       "       [ 6.49927905e-01,  1.47570612e-01],\n",
       "       [-3.33113020e-02,  3.16501160e-01],\n",
       "       [ 2.05129992e+00, -1.34339804e+00],\n",
       "       [ 7.45603907e-01, -1.70649970e+00],\n",
       "       [-9.61931312e-01, -6.92233716e-02],\n",
       "       [ 3.20616553e+00, -3.50772542e-01],\n",
       "       [ 5.67366990e-02, -4.26037703e-02],\n",
       "       [-6.72652109e-01, -2.62195159e-01],\n",
       "       [-9.86694512e-01,  3.09625771e-01],\n",
       "       [-1.68383303e-01,  7.34643039e-01],\n",
       "       [-2.47175304e-01, -1.75846534e-01],\n",
       "       [ 3.30990987e-02, -6.44835090e-02],\n",
       "       [-3.75493706e-01, -1.74752140e-01],\n",
       "       [-1.88154652e+00,  2.70613013e+00],\n",
       "       [ 4.99830989e-02, -1.00817537e+00],\n",
       "       [-5.37580108e-01, -3.53784451e-01],\n",
       "       [-8.74134511e-01,  5.07150927e-02],\n",
       "       [-3.05706505e-01,  2.45202560e-01],\n",
       "       [ 7.96255907e-01, -7.20300861e-01],\n",
       "       [ 6.18411105e-01,  6.06793973e-01],\n",
       "       [-5.69096908e-01, -1.87827745e-01],\n",
       "       [-1.04410011e+00, -6.86962166e-01],\n",
       "       [-2.10030504e-01,  1.81673116e-01],\n",
       "       [ 8.34526308e-01, -2.25503708e-01],\n",
       "       [ 3.34759902e-01, -4.75698931e-01],\n",
       "       [-2.80943305e-01, -6.66905294e-02],\n",
       "       [-3.89393021e-02, -1.06348167e-01],\n",
       "       [-3.51856105e-01,  7.10110461e-01],\n",
       "       [-1.09362651e+00,  3.43336797e-01],\n",
       "       [ 1.45135511e+00, -1.28042643e-01],\n",
       "       [-4.28396906e-01, -5.54068773e-01],\n",
       "       [ 1.69335912e+00, -2.02919576e-01],\n",
       "       [-7.60448910e-01, -1.19950920e-01],\n",
       "       [-1.69508903e-01,  9.51906867e-01],\n",
       "       [ 5.54251904e-01,  1.24606240e+00],\n",
       "       [ 1.54663900e-01, -3.12167402e-01],\n",
       "       [ 1.03375751e+00, -9.39295576e-01],\n",
       "       [ 3.04368702e-01, -8.49568603e-02],\n",
       "       [-1.57988572e+00,  2.15112759e-01],\n",
       "       [-3.90126506e-01,  1.68470855e+00],\n",
       "       [ 3.33634302e-01, -2.94443699e-01],\n",
       "       [ 2.29442952e+00, -7.06401766e-01],\n",
       "       [ 8.43531108e-01, -2.32579660e-01],\n",
       "       [-8.73008911e-01, -5.92553288e-01],\n",
       "       [ 1.37779900e-01, -2.95559339e-01],\n",
       "       [-8.24608111e-01, -6.63156462e-01],\n",
       "       [-9.49549712e-01,  9.75631384e-01],\n",
       "       [-4.95932907e-01,  5.62061733e-01],\n",
       "       [ 2.75930233e+00, -1.71245996e+00],\n",
       "       [ 2.96489502e-01, -9.16211377e-02],\n",
       "       [ 1.27649500e-01,  5.61572178e-01],\n",
       "       [-4.98184107e-01, -8.86537688e-01],\n",
       "       [ 7.92486992e-02,  6.12711033e-01],\n",
       "       [ 6.10531905e-01,  1.53707264e-01],\n",
       "       [-1.74011304e-01,  7.43889329e-01],\n",
       "       [-6.16372108e-01,  1.94796080e+00],\n",
       "       [-6.51265709e-01,  8.77536154e-01],\n",
       "       [-1.41104572e+00, -3.75269896e-01],\n",
       "       [ 2.05805352e+00, -9.14450903e-01],\n",
       "       [ 4.68706304e-01, -8.91443875e-01],\n",
       "       [ 6.66811906e-01, -8.56662692e-02],\n",
       "       [-2.78692105e-01,  6.79159437e-01],\n",
       "       [ 1.14181511e+00,  1.40986169e-01],\n",
       "       [-1.02834171e+00, -3.27457216e-01],\n",
       "       [-8.27984911e-01, -2.62386326e-01],\n",
       "       [ 4.83339104e-01, -6.48763190e-01],\n",
       "       [-9.11279312e-01,  6.03840260e-01],\n",
       "       [-7.16550509e-01, -5.84382083e-01],\n",
       "       [-6.22000108e-01,  2.38124986e-01],\n",
       "       [-4.31773706e-01, -5.81009306e-01],\n",
       "       [-8.22356911e-01,  6.74693487e-01],\n",
       "       [ 1.12718231e+00, -3.25906246e-01],\n",
       "       [-1.26809452e+00,  2.11763561e-01],\n",
       "       [-5.92734508e-01, -3.78387160e-01],\n",
       "       [-9.46172912e-01,  2.45202560e-01],\n",
       "       [ 3.41513502e-01, -1.07097023e+00],\n",
       "       [-7.94609025e-02, -1.34848847e+00],\n",
       "       [ 5.44854990e-02, -3.47636667e-01],\n",
       "       [-9.69810512e-01, -4.35039313e-01],\n",
       "       [-8.47120111e-01,  3.82226864e-02],\n",
       "       [-1.71760104e-01,  2.81918791e-01],\n",
       "       [-1.26922012e+00, -2.28339078e-01],\n",
       "       [-1.06436091e+00,  5.38308684e-01],\n",
       "       [-6.34381709e-01, -3.19291329e-01],\n",
       "       [-4.26145706e-01, -5.87438663e-01],\n",
       "       [-7.45816110e-01,  7.90261058e-01],\n",
       "       [-2.60682504e-01,  6.48775347e-01],\n",
       "       [ 1.63370232e+00,  5.66602723e-01],\n",
       "       [ 2.40924072e+00, -6.46692075e-01],\n",
       "       [ 8.17642307e-01,  3.94446492e-01],\n",
       "       [-3.77744906e-01, -3.41522622e-01],\n",
       "       [-1.28722972e+00,  3.09090836e-01],\n",
       "       [-1.28987303e-01, -1.44127377e+00],\n",
       "       [-8.91018511e-01, -3.85279543e-01],\n",
       "       [-1.12626891e+00,  2.63984329e-01],\n",
       "       [-1.38178012e+00,  1.73116196e+00],\n",
       "       [-6.43386509e-01,  2.76969363e-01],\n",
       "       [-7.49192910e-01, -1.39131822e-01],\n",
       "       [-2.84320105e-01, -3.37019475e-02],\n",
       "       [ 5.36242304e-01, -1.30172577e+00],\n",
       "       [-1.79450166e-03, -9.78543219e-01],\n",
       "       [ 1.13281031e+00,  1.86912180e-01],\n",
       "       [ 3.19490953e+00, -9.35297952e-01],\n",
       "       [ 5.86894305e-01, -1.77245714e-01],\n",
       "       [-7.19927310e-01,  5.59814954e-01],\n",
       "       [-3.70991306e-01, -6.48383036e-01],\n",
       "       [ 1.92934300e-01,  3.26204458e-02],\n",
       "       [-8.02096110e-01,  6.01667278e-01],\n",
       "       [-4.02508106e-01, -6.14008841e-01],\n",
       "       [-6.72652109e-01, -2.62195159e-01],\n",
       "       [-2.56180104e-01,  1.72741873e-01],\n",
       "       [ 5.32865504e-01, -3.09738706e-01],\n",
       "       [ 1.09639900e-01, -8.68013801e-01],\n",
       "       [ 1.34217191e+00, -3.09966611e-01],\n",
       "       [-1.03509531e+00, -1.43934483e-01],\n",
       "       [-1.03059291e+00,  4.48655474e-01],\n",
       "       [ 3.49206794e+00,  5.90826656e-01],\n",
       "       [-4.47532107e-01,  6.41064571e-01],\n",
       "       [-1.41104572e+00,  9.01673417e+00],\n",
       "       [ 1.35793031e+00, -1.00020739e+00],\n",
       "       [-3.33846505e-01,  1.26355092e+00],\n",
       "       [ 1.47611831e+00, -1.08740028e+00],\n",
       "       [-2.13407304e-01, -8.04114088e-01],\n",
       "       [-5.97236908e-01, -3.72144021e-01],\n",
       "       [-1.14652971e+00,  4.19814574e+00],\n",
       "       [ 1.67084712e+00, -9.56410951e-01],\n",
       "       [ 1.67309832e+00, -8.95823260e-01],\n",
       "       [ 3.98919103e-01,  1.33517595e+00],\n",
       "       [ 2.87749033e+00, -1.37209662e+00],\n",
       "       [ 3.80909503e-01,  1.96453862e+00],\n",
       "       [ 2.33720232e+00, -1.42451552e+00],\n",
       "       [ 1.01760699e-01,  1.32672901e+00],\n",
       "       [ 1.25398300e-01,  1.09300556e-01],\n",
       "       [ 1.20147191e+00, -1.56107458e+00],\n",
       "       [-1.84141704e-01,  5.25619338e-01],\n",
       "       [ 3.73030302e-01,  2.02759875e-01],\n",
       "       [-4.61039307e-01, -1.06978792e+00],\n",
       "       [ 2.70789839e-03,  8.31982167e-01],\n",
       "       [ 9.74100709e-01, -1.16147802e+00],\n",
       "       [-4.84676907e-01, -4.97344604e-01],\n",
       "       [-3.60860906e-01,  1.32003277e+00],\n",
       "       [-1.37615212e+00,  4.86876203e-01],\n",
       "       [-1.06323531e+00,  5.35236429e-01],\n",
       "       [ 2.62535593e+00, -7.35397381e-01],\n",
       "       [-7.63825710e-01, -1.14139106e-01],\n",
       "       [-7.06420109e-01, -2.09429617e-01],\n",
       "       [-1.21108103e-01,  8.69393055e-01],\n",
       "       [-7.93091310e-01, -4.97446091e-02],\n",
       "       [-7.63825710e-01, -1.14139106e-01],\n",
       "       [-3.81121706e-01, -1.37226890e-01],\n",
       "       [ 8.37510993e-02,  5.58424250e-01],\n",
       "       [-3.73242506e-01,  5.79382202e-01],\n",
       "       [ 7.65864707e-01, -5.34216937e-01],\n",
       "       [ 2.13234312e+00, -1.36747250e+00],\n",
       "       [ 5.04725504e-01, -1.26602321e+00],\n",
       "       [-7.90840110e-01,  2.29089621e-01],\n",
       "       [ 1.15644791e+00, -1.54673887e+00],\n",
       "       [ 6.87072706e-01,  6.31732732e-01],\n",
       "       [ 3.21291913e+00,  4.17037552e-01],\n",
       "       [-7.33434510e-01,  4.52726576e-01],\n",
       "       [ 9.43709509e-01,  1.14754500e+00],\n",
       "       [-7.75081710e-01, -1.23929567e+00],\n",
       "       [ 9.41458309e-01, -8.89801138e-01],\n",
       "       [-9.22535312e-01, -5.14885121e-01],\n",
       "       [-1.35589132e+00,  4.14195282e-01],\n",
       "       [ 1.16545271e+00, -9.56258467e-01],\n",
       "       [-8.58376111e-01,  3.30098196e-01],\n",
       "       [-7.16550509e-01,  1.61635505e+00],\n",
       "       [-1.26134092e+00,  1.03325376e+00],\n",
       "       [-4.28396906e-01,  4.41894081e-01],\n",
       "       [-7.16550509e-01, -7.06645257e-01],\n",
       "       [-3.95754506e-01, -1.17242074e-01],\n",
       "       [-1.09137531e+00,  6.13869725e-01],\n",
       "       [ 7.47462992e-02, -2.31403218e-01],\n",
       "       [-7.32308910e-01,  7.22213523e-01],\n",
       "       [ 2.62721501e-01, -5.02136332e-01],\n",
       "       [ 4.75459904e-01, -1.27166305e+00],\n",
       "       [-4.61039307e-01,  4.98827559e-01],\n",
       "       [-9.20284112e-01,  2.15248065e+00],\n",
       "       [-1.01483451e+00, -3.98909870e-01],\n",
       "       [-4.79048907e-01,  5.31149320e-01],\n",
       "       [-1.09362651e+00, -6.01695617e-01],\n",
       "       [-8.08849711e-01, -1.33620357e+00],\n",
       "       [ 1.46823911e+00, -2.05366292e+00],\n",
       "       [ 1.80591912e+00, -4.99859091e-01],\n",
       "       [ 1.04051111e+00,  7.07572834e-01],\n",
       "       [ 8.32275107e-01, -1.43106581e+00],\n",
       "       [ 3.24629502e-01, -1.19087646e+00],\n",
       "       [-2.21286504e-01, -1.02709553e+00],\n",
       "       [-1.13228903e-01, -1.73622005e-02]])"
      ]
     },
     "execution_count": 93,
     "metadata": {},
     "output_type": "execute_result"
    }
   ],
   "source": [
    "scaler.fit_transform(df[[\"total_bill\", \"tip_rate\"]])"
   ]
  },
  {
   "cell_type": "markdown",
   "metadata": {},
   "source": [
    "## 二項分布"
   ]
  },
  {
   "cell_type": "code",
   "execution_count": 97,
   "metadata": {},
   "outputs": [
    {
     "data": {
      "text/plain": [
       "<matplotlib.collections.LineCollection at 0x7f8f7c6f0390>"
      ]
     },
     "execution_count": 97,
     "metadata": {},
     "output_type": "execute_result"
    },
    {
     "data": {
      "image/png": "[encoded data removed]",
      "text/plain": [
       "<Figure size 432x288 with 1 Axes>"
      ]
     },
     "metadata": {
      "needs_background": "light"
     },
     "output_type": "display_data"
    }
   ],
   "source": [
    "n = 3\n",
    "x = np.arange(n+1)\n",
    "y = stats.binom(n=n, p=1/6).pmf(x)\n",
    "plt.plot(x, y, \"o\")\n",
    "plt.vlines(x, 0, y)"
   ]
  },
  {
   "cell_type": "markdown",
   "metadata": {},
   "source": [
    "## 二項分布->正規分布"
   ]
  },
  {
   "cell_type": "code",
   "execution_count": 98,
   "metadata": {},
   "outputs": [
    {
     "data": {
      "text/plain": [
       "[<matplotlib.lines.Line2D at 0x7f8f7c6d1d50>]"
      ]
     },
     "execution_count": 98,
     "metadata": {},
     "output_type": "execute_result"
    },
    {
     "data": {
      "image/png": "[encoded data removed]",
      "text/plain": [
       "<Figure size 432x288 with 1 Axes>"
      ]
     },
     "metadata": {
      "needs_background": "light"
     },
     "output_type": "display_data"
    }
   ],
   "source": [
    "n = 100\n",
    "p = 1/6\n",
    "x = np.arange(n+1)\n",
    "y = stats.binom(n, p).pmf(x)\n",
    "plt.plot(x, y, \"o\")"
   ]
  },
  {
   "cell_type": "code",
   "execution_count": 104,
   "metadata": {},
   "outputs": [
    {
     "data": {
      "text/plain": [
       "[<matplotlib.lines.Line2D at 0x7f8f7c5f01d0>]"
      ]
     },
     "execution_count": 104,
     "metadata": {},
     "output_type": "execute_result"
    },
    {
     "data": {
      "image/png": "[encoded data removed]",
      "text/plain": [
       "<Figure size 432x288 with 1 Axes>"
      ]
     },
     "metadata": {
      "needs_background": "light"
     },
     "output_type": "display_data"
    }
   ],
   "source": [
    "y2 = stats.norm(n*p, np.sqrt(n*p*(1-p))).pdf(x)\n",
    "plt.plot(x, y2)\n",
    "plt.plot(x, y, \"o\")"
   ]
  },
  {
   "cell_type": "code",
   "execution_count": 99,
   "metadata": {},
   "outputs": [
    {
     "data": {
      "text/plain": [
       "16.666666666666664"
      ]
     },
     "execution_count": 99,
     "metadata": {},
     "output_type": "execute_result"
    }
   ],
   "source": [
    "stats.binom(n, p).mean()"
   ]
  },
  {
   "cell_type": "code",
   "execution_count": 100,
   "metadata": {},
   "outputs": [
    {
     "data": {
      "text/plain": [
       "16.666666666666664"
      ]
     },
     "execution_count": 100,
     "metadata": {},
     "output_type": "execute_result"
    }
   ],
   "source": [
    "n*p"
   ]
  },
  {
   "cell_type": "code",
   "execution_count": 101,
   "metadata": {},
   "outputs": [
    {
     "data": {
      "text/plain": [
       "13.888888888888888"
      ]
     },
     "execution_count": 101,
     "metadata": {},
     "output_type": "execute_result"
    }
   ],
   "source": [
    "stats.binom(n, p).var()"
   ]
  },
  {
   "cell_type": "code",
   "execution_count": 102,
   "metadata": {},
   "outputs": [
    {
     "data": {
      "text/plain": [
       "13.888888888888888"
      ]
     },
     "execution_count": 102,
     "metadata": {},
     "output_type": "execute_result"
    }
   ],
   "source": [
    "n*p*(1-p)"
   ]
  },
  {
   "cell_type": "markdown",
   "metadata": {},
   "source": [
    "## 標本分布"
   ]
  },
  {
   "cell_type": "code",
   "execution_count": 9,
   "metadata": {},
   "outputs": [],
   "source": [
    "m = 100\n",
    "n = 50\n",
    "column = \"tip\"\n",
    "sample_means = []\n",
    "for i in range(m):\n",
    "    sampled_df = df.sample(n)\n",
    "    sample_mean = sampled_df[column].mean()\n",
    "    sample_means.append(sample_mean)"
   ]
  },
  {
   "cell_type": "code",
   "execution_count": 13,
   "metadata": {},
   "outputs": [
    {
     "data": {
      "text/plain": [
       "2.980476"
      ]
     },
     "execution_count": 13,
     "metadata": {},
     "output_type": "execute_result"
    }
   ],
   "source": [
    "np.mean(sample_means)"
   ]
  },
  {
   "cell_type": "code",
   "execution_count": 15,
   "metadata": {},
   "outputs": [
    {
     "data": {
      "text/plain": [
       "2.9982786885245902"
      ]
     },
     "execution_count": 15,
     "metadata": {},
     "output_type": "execute_result"
    }
   ],
   "source": [
    "df[column].mean()"
   ]
  },
  {
   "cell_type": "code",
   "execution_count": 16,
   "metadata": {},
   "outputs": [
    {
     "data": {
      "text/plain": [
       "0.03821118302399998"
      ]
     },
     "execution_count": 16,
     "metadata": {},
     "output_type": "execute_result"
    }
   ],
   "source": [
    "np.var(sample_means)"
   ]
  },
  {
   "cell_type": "code",
   "execution_count": 18,
   "metadata": {},
   "outputs": [
    {
     "data": {
      "text/plain": [
       "0.03813217024993285"
      ]
     },
     "execution_count": 18,
     "metadata": {},
     "output_type": "execute_result"
    }
   ],
   "source": [
    "np.var(df[column]) / n"
   ]
  },
  {
   "cell_type": "code",
   "execution_count": 12,
   "metadata": {},
   "outputs": [
    {
     "data": {
      "text/plain": [
       "<matplotlib.axes._subplots.AxesSubplot at 0x7f256c2b2c90>"
      ]
     },
     "execution_count": 12,
     "metadata": {},
     "output_type": "execute_result"
    },
    {
     "data": {
      "image/png": "[encoded data removed]",
      "text/plain": [
       "<Figure size 432x288 with 1 Axes>"
      ]
     },
     "metadata": {
      "needs_background": "light"
     },
     "output_type": "display_data"
    }
   ],
   "source": [
    "sns.distplot(sample_means)"
   ]
  },
  {
   "cell_type": "markdown",
   "metadata": {},
   "source": [
    "## 不偏分散"
   ]
  },
  {
   "cell_type": "code",
   "execution_count": 19,
   "metadata": {},
   "outputs": [
    {
     "data": {
      "text/plain": [
       "1.914454638062471"
      ]
     },
     "execution_count": 19,
     "metadata": {},
     "output_type": "execute_result"
    }
   ],
   "source": [
    "stats.tvar(df[\"tip\"])"
   ]
  },
  {
   "cell_type": "code",
   "execution_count": 22,
   "metadata": {},
   "outputs": [
    {
     "data": {
      "text/plain": [
       "1.9144546380624725"
      ]
     },
     "execution_count": 22,
     "metadata": {},
     "output_type": "execute_result"
    }
   ],
   "source": [
    "np.var(df[\"tip\"], ddof=1)"
   ]
  },
  {
   "cell_type": "code",
   "execution_count": 23,
   "metadata": {},
   "outputs": [
    {
     "data": {
      "text/plain": [
       "1.3836381890011822"
      ]
     },
     "execution_count": 23,
     "metadata": {},
     "output_type": "execute_result"
    }
   ],
   "source": [
    "np.sqrt(stats.tvar(df[\"tip\"]))"
   ]
  },
  {
   "cell_type": "code",
   "execution_count": 25,
   "metadata": {},
   "outputs": [
    {
     "data": {
      "text/plain": [
       "1.3836381890011826"
      ]
     },
     "execution_count": 25,
     "metadata": {},
     "output_type": "execute_result"
    }
   ],
   "source": [
    "np.std(df[\"tip\"], ddof=1)"
   ]
  },
  {
   "cell_type": "markdown",
   "metadata": {},
   "source": [
    "## 普遍分散の不偏性"
   ]
  },
  {
   "cell_type": "code",
   "execution_count": 45,
   "metadata": {},
   "outputs": [],
   "source": [
    "n = 100\n",
    "m = 50\n",
    "column = \"tip\"\n",
    "sample_tvars = []\n",
    "sample_vars = []\n",
    "for i in range(n):\n",
    "    sample_df = df.sample(m)\n",
    "    sample_tvar = stats.tvar(sample_df[column])\n",
    "    sample_tvars.append(sample_tvar)\n",
    "    sample_var = np.var(sample_df[column])\n",
    "    sample_vars.append(sample_var)"
   ]
  },
  {
   "cell_type": "code",
   "execution_count": 46,
   "metadata": {},
   "outputs": [
    {
     "data": {
      "text/plain": [
       "1.8619280865306123"
      ]
     },
     "execution_count": 46,
     "metadata": {},
     "output_type": "execute_result"
    }
   ],
   "source": [
    "np.mean(sample_tvars)"
   ]
  },
  {
   "cell_type": "code",
   "execution_count": 47,
   "metadata": {},
   "outputs": [
    {
     "data": {
      "text/plain": [
       "1.9066085124966428"
      ]
     },
     "execution_count": 47,
     "metadata": {},
     "output_type": "execute_result"
    }
   ],
   "source": [
    "np.var(df[column])"
   ]
  },
  {
   "cell_type": "code",
   "execution_count": 48,
   "metadata": {},
   "outputs": [
    {
     "data": {
      "text/plain": [
       "1.8246895248000001"
      ]
     },
     "execution_count": 48,
     "metadata": {},
     "output_type": "execute_result"
    }
   ],
   "source": [
    "np.mean(sample_vars)"
   ]
  },
  {
   "cell_type": "markdown",
   "metadata": {},
   "source": [
    "## 比率の区間推定"
   ]
  },
  {
   "cell_type": "code",
   "execution_count": 3,
   "metadata": {},
   "outputs": [
    {
     "data": {
      "text/plain": [
       "(570.0, 630.0)"
      ]
     },
     "execution_count": 3,
     "metadata": {},
     "output_type": "execute_result"
    }
   ],
   "source": [
    "stats.binom.interval(0.95, 1000, 0.6)"
   ]
  },
  {
   "cell_type": "code",
   "execution_count": 4,
   "metadata": {},
   "outputs": [
    {
     "data": {
      "text/plain": [
       "(560.0, 640.0)"
      ]
     },
     "execution_count": 4,
     "metadata": {},
     "output_type": "execute_result"
    }
   ],
   "source": [
    "stats.binom.interval(0.99, 1000, 0.6)"
   ]
  },
  {
   "cell_type": "code",
   "execution_count": 45,
   "metadata": {},
   "outputs": [],
   "source": [
    "column = \"sex\"\n",
    "n = 100\n",
    "m = 50\n",
    "alpha = 0.95\n",
    "population_male_ration = len(df[df[column] == \"Male\"]) / len(df)\n",
    "results = []\n",
    "for _ in range(n):\n",
    "    sample_df = df.sample(m)\n",
    "    male_ration = len(sample_df[sample_df[column]==\"Male\"]) / len(sample_df)\n",
    "    min_num, max_num = stats.binom.interval(alpha, m, male_ration)\n",
    "    min_ration = min_num / m\n",
    "    max_ration = max_num / m\n",
    "    correct = min_ration < population_male_ration < max_ration\n",
    "    results.append({\"min\": min_ration, \"max\": max_ration, \"correct\": correct})"
   ]
  },
  {
   "cell_type": "code",
   "execution_count": 46,
   "metadata": {},
   "outputs": [
    {
     "data": {
      "text/plain": [
       "True     94\n",
       "False     6\n",
       "Name: correct, dtype: int64"
      ]
     },
     "execution_count": 46,
     "metadata": {},
     "output_type": "execute_result"
    }
   ],
   "source": [
    "result_df = pd.DataFrame(results)\n",
    "result_df[\"correct\"].value_counts()"
   ]
  },
  {
   "cell_type": "markdown",
   "metadata": {},
   "source": [
    "## 平均の区間推定"
   ]
  },
  {
   "cell_type": "code",
   "execution_count": 97,
   "metadata": {},
   "outputs": [],
   "source": [
    "m = 100\n",
    "n = 50\n",
    "alpha = 0.95\n",
    "answer_mean = df[\"tip\"].mean()\n",
    "results = []\n",
    "for _ in range(m):\n",
    "    sample_tip = df[\"tip\"].sample(n)\n",
    "    sample_tip_mean = sample_tip.mean()\n",
    "    sample_tip_var = stats.tvar(sample_tip)\n",
    "    min_mean, max_mean = stats.norm.interval(alpha, sample_tip_mean, np.sqrt(sample_tip_var/n))\n",
    "    correct = min_mean < answer_mean < max_mean\n",
    "    results.append({\"min\": min_mean, \"max\": max_mean, \"correct\":correct})"
   ]
  },
  {
   "cell_type": "code",
   "execution_count": 98,
   "metadata": {},
   "outputs": [
    {
     "data": {
      "text/plain": [
       "True     99\n",
       "False     1\n",
       "Name: correct, dtype: int64"
      ]
     },
     "execution_count": 98,
     "metadata": {},
     "output_type": "execute_result"
    }
   ],
   "source": [
    "result_df = pd.DataFrame(results)\n",
    "result_df[\"correct\"].value_counts()"
   ]
  },
  {
   "cell_type": "markdown",
   "metadata": {},
   "source": [
    "## t分布"
   ]
  },
  {
   "cell_type": "code",
   "execution_count": 108,
   "metadata": {},
   "outputs": [
    {
     "data": {
      "text/plain": [
       "<matplotlib.legend.Legend at 0x7fe90806c050>"
      ]
     },
     "execution_count": 108,
     "metadata": {},
     "output_type": "execute_result"
    },
    {
     "data": {
      "image/png": "[encoded data removed]",
      "text/plain": [
       "<Figure size 432x288 with 1 Axes>"
      ]
     },
     "metadata": {
      "needs_background": "light"
     },
     "output_type": "display_data"
    }
   ],
   "source": [
    "x = np.linspace(-3, 3, 100)\n",
    "z = stats.norm.pdf(x)\n",
    "for dof in range(1, 12, 5):\n",
    "    t = stats.t(dof).pdf(x)\n",
    "    plt.plot(x, t, label=f\"t dist(dof={dof})\")\n",
    "plt.plot(x, z, label=\"std norm\", linewidth=3)\n",
    "plt.legend()"
   ]
  },
  {
   "cell_type": "markdown",
   "metadata": {},
   "source": [
    "## 平均の区間推定(正規分布とt分布)"
   ]
  },
  {
   "cell_type": "code",
   "execution_count": 309,
   "metadata": {},
   "outputs": [],
   "source": [
    "m = 100\n",
    "n = 50\n",
    "alpha = 0.95\n",
    "column = \"tip\"\n",
    "answer = df[column].mean()\n",
    "results1 = []\n",
    "results2 = []\n",
    "for _ in range(m):\n",
    "    sample_df = df[column].sample(n)\n",
    "    sample_mean = sample_df.mean()\n",
    "    sample_var = stats.tvar(sample_df)\n",
    "    min_mean1, max_mean1 = stats.norm.interval(alpha, loc=sample_mean, scale=np.sqrt(sample_var/n))\n",
    "    correct1 = min_mean1 < answer < max_mean1\n",
    "    results1.append({\"min_mean1\": min_mean1, \"max_mean1\": max_mean1, \"correct1\": correct1})\n",
    "    min_mean2, max_mean2 = stats.t.interval(alpha, loc=sample_mean, scale=np.sqrt(sample_var/n), df=n-1)\n",
    "    correct2 = min_mean2 < answer < max_mean2\n",
    "    results2.append({\"min_mean2\": min_mean2, \"max_mean2\": max_mean2, \"correct2\": correct2})"
   ]
  },
  {
   "cell_type": "code",
   "execution_count": 310,
   "metadata": {},
   "outputs": [
    {
     "data": {
      "text/plain": [
       "True     98\n",
       "False     2\n",
       "Name: correct1, dtype: int64"
      ]
     },
     "execution_count": 310,
     "metadata": {},
     "output_type": "execute_result"
    }
   ],
   "source": [
    "df1 = pd.DataFrame(results1)\n",
    "df1[\"correct1\"].value_counts()"
   ]
  },
  {
   "cell_type": "code",
   "execution_count": 311,
   "metadata": {},
   "outputs": [
    {
     "data": {
      "text/plain": [
       "True     99\n",
       "False     1\n",
       "Name: correct2, dtype: int64"
      ]
     },
     "execution_count": 311,
     "metadata": {},
     "output_type": "execute_result"
    }
   ],
   "source": [
    "df2 = pd.DataFrame(results2)\n",
    "df2[\"correct2\"].value_counts()"
   ]
  },
  {
   "cell_type": "code",
   "execution_count": 317,
   "metadata": {},
   "outputs": [
    {
     "data": {
      "text/html": [
       "<div>\n",
       "<style scoped>\n",
       "    .dataframe tbody tr th:only-of-type {\n",
       "        vertical-align: middle;\n",
       "    }\n",
       "\n",
       "    .dataframe tbody tr th {\n",
       "        vertical-align: top;\n",
       "    }\n",
       "\n",
       "    .dataframe thead th {\n",
       "        text-align: right;\n",
       "    }\n",
       "</style>\n",
       "<table border=\"1\" class=\"dataframe\">\n",
       "  <thead>\n",
       "    <tr style=\"text-align: right;\">\n",
       "      <th></th>\n",
       "      <th>min_mean1</th>\n",
       "      <th>max_mean1</th>\n",
       "      <th>correct1</th>\n",
       "    </tr>\n",
       "  </thead>\n",
       "  <tbody>\n",
       "    <tr>\n",
       "      <th>0</th>\n",
       "      <td>2.463673</td>\n",
       "      <td>3.103927</td>\n",
       "      <td>True</td>\n",
       "    </tr>\n",
       "    <tr>\n",
       "      <th>1</th>\n",
       "      <td>2.720861</td>\n",
       "      <td>3.421139</td>\n",
       "      <td>True</td>\n",
       "    </tr>\n",
       "    <tr>\n",
       "      <th>2</th>\n",
       "      <td>2.575433</td>\n",
       "      <td>3.177367</td>\n",
       "      <td>True</td>\n",
       "    </tr>\n",
       "    <tr>\n",
       "      <th>3</th>\n",
       "      <td>2.869300</td>\n",
       "      <td>3.639100</td>\n",
       "      <td>True</td>\n",
       "    </tr>\n",
       "    <tr>\n",
       "      <th>4</th>\n",
       "      <td>2.377844</td>\n",
       "      <td>3.185356</td>\n",
       "      <td>True</td>\n",
       "    </tr>\n",
       "    <tr>\n",
       "      <th>...</th>\n",
       "      <td>...</td>\n",
       "      <td>...</td>\n",
       "      <td>...</td>\n",
       "    </tr>\n",
       "    <tr>\n",
       "      <th>95</th>\n",
       "      <td>2.604987</td>\n",
       "      <td>3.311813</td>\n",
       "      <td>True</td>\n",
       "    </tr>\n",
       "    <tr>\n",
       "      <th>96</th>\n",
       "      <td>2.655853</td>\n",
       "      <td>3.298947</td>\n",
       "      <td>True</td>\n",
       "    </tr>\n",
       "    <tr>\n",
       "      <th>97</th>\n",
       "      <td>2.853020</td>\n",
       "      <td>3.744980</td>\n",
       "      <td>True</td>\n",
       "    </tr>\n",
       "    <tr>\n",
       "      <th>98</th>\n",
       "      <td>2.709069</td>\n",
       "      <td>3.378931</td>\n",
       "      <td>True</td>\n",
       "    </tr>\n",
       "    <tr>\n",
       "      <th>99</th>\n",
       "      <td>2.418768</td>\n",
       "      <td>3.114832</td>\n",
       "      <td>True</td>\n",
       "    </tr>\n",
       "  </tbody>\n",
       "</table>\n",
       "<p>100 rows × 3 columns</p>\n",
       "</div>"
      ],
      "text/plain": [
       "    min_mean1  max_mean1  correct1\n",
       "0    2.463673   3.103927      True\n",
       "1    2.720861   3.421139      True\n",
       "2    2.575433   3.177367      True\n",
       "3    2.869300   3.639100      True\n",
       "4    2.377844   3.185356      True\n",
       "..        ...        ...       ...\n",
       "95   2.604987   3.311813      True\n",
       "96   2.655853   3.298947      True\n",
       "97   2.853020   3.744980      True\n",
       "98   2.709069   3.378931      True\n",
       "99   2.418768   3.114832      True\n",
       "\n",
       "[100 rows x 3 columns]"
      ]
     },
     "execution_count": 317,
     "metadata": {},
     "output_type": "execute_result"
    }
   ],
   "source": [
    "df1"
   ]
  },
  {
   "cell_type": "code",
   "execution_count": 320,
   "metadata": {},
   "outputs": [
    {
     "data": {
      "text/plain": [
       "0.7697884954397425"
      ]
     },
     "execution_count": 320,
     "metadata": {},
     "output_type": "execute_result"
    }
   ],
   "source": [
    "df1[\"distance\"] = df1[\"max_mean1\"] - df1[\"min_mean1\"]\n",
    "df1[\"distance\"].mean()"
   ]
  },
  {
   "cell_type": "code",
   "execution_count": 322,
   "metadata": {},
   "outputs": [
    {
     "data": {
      "text/plain": [
       "0.7892736338180414"
      ]
     },
     "execution_count": 322,
     "metadata": {},
     "output_type": "execute_result"
    }
   ],
   "source": [
    "df2[\"distance\"] = df2[\"max_mean2\"] - df2[\"min_mean2\"]\n",
    "df2[\"distance\"].mean()"
   ]
  },
  {
   "cell_type": "code",
   "execution_count": null,
   "metadata": {},
   "outputs": [],
   "source": []
  }
 ],
 "metadata": {
  "kernelspec": {
   "display_name": "Python 3",
   "language": "python",
   "name": "python3"
  },
  "language_info": {
   "codemirror_mode": {
    "name": "ipython",
    "version": 3
   },
   "file_extension": ".py",
   "mimetype": "text/x-python",
   "name": "python",
   "nbconvert_exporter": "python",
   "pygments_lexer": "ipython3",
   "version": "3.7.6"
  }
 },
 "nbformat": 4,
 "nbformat_minor": 4
}
